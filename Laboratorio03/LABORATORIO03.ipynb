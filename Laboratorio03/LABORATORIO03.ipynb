{
  "cells": [
    {
      "cell_type": "markdown",
      "metadata": {
        "id": "view-in-github",
        "colab_type": "text"
      },
      "source": [
        "<a href=\"https://colab.research.google.com/github/CoaDiego/SIS420---IA/blob/main/Laboratorio03/LABORATORIO03.ipynb\" target=\"_parent\"><img src=\"https://colab.research.google.com/assets/colab-badge.svg\" alt=\"Open In Colab\"/></a>"
      ]
    },
    {
      "cell_type": "markdown",
      "metadata": {
        "id": "9L0KhPHmJVNa"
      },
      "source": [
        "# Ejercicion de programación - Regresión Logistica\n",
        "\n",
        "En este ejercicio del Laboratorio 03 se implementara la regresion logistica con el uso del sigueinte dataset.\n",
        "\n",
        "Binary Classification of Bank Churn Synthetic Data\n",
        "\n",
        "https://www.kaggle.com/datasets/cybersimar08/binary-classification-of-bank-churn-synthetic-data"
      ]
    },
    {
      "cell_type": "code",
      "source": [
        "from google.colab import drive\n",
        "drive.mount('/content/drive')"
      ],
      "metadata": {
        "colab": {
          "base_uri": "https://localhost:8080/"
        },
        "id": "z5PQZyiqJhUu",
        "outputId": "723b4d7f-2593-4fec-8399-ac8eaa409108"
      },
      "execution_count": 112,
      "outputs": [
        {
          "output_type": "stream",
          "name": "stdout",
          "text": [
            "Drive already mounted at /content/drive; to attempt to forcibly remount, call drive.mount(\"/content/drive\", force_remount=True).\n"
          ]
        }
      ]
    },
    {
      "cell_type": "code",
      "execution_count": 201,
      "metadata": {
        "id": "Eg6cIE74JVNd"
      },
      "outputs": [],
      "source": [
        "# se utiliza para el manejo de rutas y directorios.\n",
        "import os\n",
        "\n",
        "# Calculo cientifico y vectorial para python\n",
        "import numpy as np\n",
        "\n",
        "# Librerias para graficar\n",
        "from matplotlib import pyplot\n",
        "\n",
        "# Modulo de optimización de scipy\n",
        "from scipy import optimize\n",
        "\n",
        "# le dice a matplotlib que incruste gráficos en el cuaderno\n",
        "%matplotlib inline\n",
        "\n",
        "#Se aplico Pandas para el preprocesamiento del dataset.\n",
        "import pandas as pd"
      ]
    },
    {
      "cell_type": "markdown",
      "metadata": {
        "id": "t52vBnb_JVNe"
      },
      "source": [
        "## 1 Regresion Logistica\n",
        "\n",
        "En este ejercicio, se creará un modelo de regresión logística para predecir si un cliente sabandonara (si/no) la cuenta del Banco.\n",
        "\n",
        "El dataset cuenta con 24 columnas y 175027 filas.\n",
        "Para la validacion del modelo se debe utilizar el 80% de los datos(140022) para entrenar y el 20% para probar (35005).\n",
        "\n",
        "La siguiente celda cargará los datos y las etiquetas correspondientes:"
      ]
    },
    {
      "cell_type": "code",
      "execution_count": 298,
      "metadata": {
        "colab": {
          "base_uri": "https://localhost:8080/"
        },
        "id": "WVzUelTXJVNe",
        "outputId": "e3e0cc18-487b-4511-96f4-fbcccc923e32"
      },
      "outputs": [
        {
          "output_type": "stream",
          "name": "stdout",
          "text": [
            "        Surname  CreditScore   Age  Tenure    Balance  NumOfProducts  \\\n",
            "0          2023        668.0  33.0     3.0       0.00            2.0   \n",
            "1          2024        627.0  33.0     1.0       0.00            2.0   \n",
            "2          1236        678.0  40.0    10.0       0.00            2.0   \n",
            "3          1362        581.0  34.0     2.0  148882.54            1.0   \n",
            "4           491        716.0  33.0     5.0       0.00            2.0   \n",
            "...         ...          ...   ...     ...        ...            ...   \n",
            "140017     1350        562.0  42.0     9.0       0.00            1.0   \n",
            "140018     1464        711.0  38.0     0.0       0.00            1.0   \n",
            "140019     2062        619.0  34.0     3.0       0.00            2.0   \n",
            "140020      701        583.0  58.0     7.0  107978.40            1.0   \n",
            "140021     1001        706.0  53.0     8.0       0.00            1.0   \n",
            "\n",
            "        HasCrCard  IsActiveMember  EstimatedSalary  Surname_tfidf_0  ...  \\\n",
            "0               1               0        181449.97    -3.124437e-07  ...   \n",
            "1               1               1         49503.50     4.813383e-07  ...   \n",
            "2               1               0        184866.69    -3.447294e-04  ...   \n",
            "3               1               1         84560.88    -7.220936e-05  ...   \n",
            "4               1               1         15068.83    -1.037135e-07  ...   \n",
            "...           ...             ...              ...              ...  ...   \n",
            "140017          1               1        106839.71     1.151396e-04  ...   \n",
            "140018          1               0         83263.06    -1.729980e-09  ...   \n",
            "140019          1               0        164975.84    -2.133198e-06  ...   \n",
            "140020          0               0         43852.05     7.528438e-14  ...   \n",
            "140021          1               1        157932.75     9.032524e-12  ...   \n",
            "\n",
            "        France  Germany  Spain  Female  Male  Mem__no__Products  Cred_Bal_Sal  \\\n",
            "0            1        0      0       0     1                0.0      0.000000   \n",
            "1            1        0      0       0     1                2.0      0.000000   \n",
            "2            1        0      0       0     1                0.0      0.000000   \n",
            "3            1        0      0       0     1                1.0   1022.940581   \n",
            "4            0        0      1       0     1                2.0      0.000000   \n",
            "...        ...      ...    ...     ...   ...                ...           ...   \n",
            "140017       0        0      1       1     0                1.0      0.000000   \n",
            "140018       1        0      0       0     1                0.0      0.000000   \n",
            "140019       0        0      1       0     1                0.0      0.000000   \n",
            "140020       0        1      0       0     1                0.0   1435.540806   \n",
            "140021       0        0      1       0     1                1.0      0.000000   \n",
            "\n",
            "         Bal_sal  Tenure_Age  Age_Tenure_product  \n",
            "0       0.000000    0.090909                99.0  \n",
            "1       0.000000    0.030303                33.0  \n",
            "2       0.000000    0.250000               400.0  \n",
            "3       1.760655    0.058824                68.0  \n",
            "4       0.000000    0.151515               165.0  \n",
            "...          ...         ...                 ...  \n",
            "140017  0.000000    0.214286               378.0  \n",
            "140018  0.000000    0.000000                 0.0  \n",
            "140019  0.000000    0.088235               102.0  \n",
            "140020  2.462334    0.120690               406.0  \n",
            "140021  0.000000    0.150943               424.0  \n",
            "\n",
            "[140022 rows x 24 columns]\n",
            "0         0\n",
            "1         0\n",
            "2         0\n",
            "3         0\n",
            "4         0\n",
            "         ..\n",
            "140017    0\n",
            "140018    0\n",
            "140019    0\n",
            "140020    1\n",
            "140021    1\n",
            "Name: Exited, Length: 140022, dtype: int64\n",
            "(140022, 24)\n"
          ]
        }
      ],
      "source": [
        "# Cargar datos\n",
        "# La columna 10(Exited) contiene la etiqueta que indica si el cliente abandono o no la cuenta.\n",
        "dataset = pd.read_csv('/content/drive/MyDrive/SIS420-IA/datasets/Lab03/Dataset.csv')\n",
        "\n",
        "dataframe = dataset\n",
        "#print(dataframe)\n",
        "\n",
        "X_train = dataset.iloc[:140022].drop(columns=dataset.columns[9])  # Todas las columnas excepto la Y\n",
        "y_train = dataset.iloc[:140022, 9]  # Solo la columna 9\n",
        "\n",
        "X_test = dataset.iloc[140022:].drop(columns=dataset.columns[9])  # Todas las columnas excepto el de Y\n",
        "y_test = dataset.iloc[140022:, 9]  # Solo la columna de la variable de salida \"Exited\"\n",
        "\n",
        "#X = X_train\n",
        "#y = y_train\n",
        "\n",
        "print(X_train)\n",
        "print(y_train)\n",
        "\n",
        "print(X_train.shape) #Verificar numero de columnas de X_train"
      ]
    },
    {
      "cell_type": "code",
      "source": [
        "def  featureNormalize(X):\n",
        "    X_norm = X_train.copy()\n",
        "    mu = np.zeros(X_train.shape[1])\n",
        "    sigma = np.zeros(X_train.shape[1])\n",
        "\n",
        "    mu = np.mean(X_train, axis = 0)\n",
        "    sigma = np.std(X_train, axis = 0)\n",
        "    X_norm = (X_train - mu) / sigma\n",
        "\n",
        "    return X_norm, mu, sigma"
      ],
      "metadata": {
        "id": "Hm-N_krwdlHs"
      },
      "execution_count": 203,
      "outputs": []
    },
    {
      "cell_type": "code",
      "source": [
        "# llama featureNormalize con los datos cargados\n",
        "X_norm, mu, sigma = featureNormalize(X_train)\n"
      ],
      "metadata": {
        "id": "SJyWteYVdoOc"
      },
      "execution_count": 204,
      "outputs": []
    },
    {
      "cell_type": "markdown",
      "metadata": {
        "id": "Pfpf9aEFJVNg"
      },
      "source": [
        "<a id=\"section1\"></a>\n",
        "### 1.2 Implementacion\n",
        "\n",
        "#### 1.2.1 Fución Sigmoidea"
      ]
    },
    {
      "cell_type": "code",
      "execution_count": 208,
      "metadata": {
        "id": "pk9dV23xJVNh"
      },
      "outputs": [],
      "source": [
        "def sigmoid(z):\n",
        "    # Calcula la sigmoide de una entrada z\n",
        "    # convierte la intrada a un arreglo numpy\n",
        "    z = np.array(z)\n",
        "\n",
        "    g = np.zeros(z.shape)\n",
        "\n",
        "    g = 1 / (1 + np.exp(-z))\n",
        "\n",
        "    return g"
      ]
    },
    {
      "cell_type": "markdown",
      "metadata": {
        "id": "uRsBEhsWJVNh"
      },
      "source": [
        "Se calcula el valor de la sigmoide aplicando la funcion sigmoid con `z=0`, se debe obtener un resultado de 0.5. RE recomienda experimentar con otros valores de `z`."
      ]
    },
    {
      "cell_type": "code",
      "execution_count": 209,
      "metadata": {
        "colab": {
          "base_uri": "https://localhost:8080/"
        },
        "id": "uIPk61NLJVNh",
        "outputId": "aeee3c6a-2209-4b39-cccb-fc879040d83f"
      },
      "outputs": [
        {
          "output_type": "stream",
          "name": "stdout",
          "text": [
            "g( [0, 0.5, 1] ) =  [0.5        0.62245933 0.73105858]\n"
          ]
        }
      ],
      "source": [
        "# Prueba la implementacion de la funcion sigmoid\n",
        "z = [0, 0.5, 1]\n",
        "g = sigmoid(z)\n",
        "\n",
        "print('g(', z, ') = ', g)"
      ]
    },
    {
      "cell_type": "markdown",
      "metadata": {
        "id": "tDl3_8hvJVNi"
      },
      "source": [
        "<a id=\"section2\"></a>\n",
        "#### 1.2.2 Función de Costo y Gradiente\n",
        "\n",
        "Se implementa la funcion cost y gradient, para la regresión logistica. Antes de continuar es importante agregar el termino de intercepcion a X."
      ]
    },
    {
      "cell_type": "code",
      "execution_count": 211,
      "metadata": {
        "id": "ELtMkiYDJVNi",
        "colab": {
          "base_uri": "https://localhost:8080/"
        },
        "outputId": "deba54fe-5021-4a23-a482-2dcefaed8b85"
      },
      "outputs": [
        {
          "output_type": "stream",
          "name": "stdout",
          "text": [
            "(140022, 25)\n"
          ]
        }
      ],
      "source": [
        "# Configurar la matriz adecuadamente, y agregar una columna de unos\n",
        "m = X_train.shape[0]\n",
        "X_train = np.concatenate([np.ones((m, 1)), X_norm], axis=1)\n",
        "\n",
        "print(X_train.shape)"
      ]
    },
    {
      "cell_type": "code",
      "execution_count": 212,
      "metadata": {
        "id": "iqDZRIgjJVNi"
      },
      "outputs": [],
      "source": [
        "def calcularCosto(theta, X, y):\n",
        "    # Inicializar algunos valores utiles\n",
        "    m = y_train.size  # numero de ejemplos de entrenamiento\n",
        "\n",
        "    J = 0\n",
        "    h = sigmoid(X_train.dot(theta.T))\n",
        "    J = (1 / m) * np.sum(-y_train.dot(np.log(h)) - (1 - y_train).dot(np.log(1 - h)))\n",
        "\n",
        "    return J"
      ]
    },
    {
      "cell_type": "code",
      "execution_count": 213,
      "metadata": {
        "id": "7G4SjTrwJVNi"
      },
      "outputs": [],
      "source": [
        "def descensoGradiente(theta, X_train, y_train, alpha, num_iters):\n",
        "    # Inicializa algunos valores\n",
        "    m = y_train.shape[0] # numero de ejemplos de entrenamiento\n",
        "\n",
        "    # realiza una copia de theta, el cual será acutalizada por el descenso por el gradiente\n",
        "    theta = theta.copy()\n",
        "    J_history = []\n",
        "\n",
        "    for i in range(num_iters):\n",
        "        h = sigmoid(X_train.dot(theta.T))\n",
        "        theta = theta - (alpha / m) * (h - y_train).dot(X_train)\n",
        "\n",
        "        J_history.append(calcularCosto(theta, X_train, y_train))\n",
        "    return theta, J_history"
      ]
    },
    {
      "cell_type": "code",
      "source": [
        "# Elegir algun valor para alpha (probar varias alternativas)\n",
        "alpha = 0.01\n",
        "num_iters = 10000\n",
        "\n",
        "# inicializa theta y ejecuta el descenso por el gradiente\n",
        "theta = np.zeros(25)\n",
        "theta, J_history = descensoGradiente(theta, X_train, y_train, alpha, num_iters)\n",
        "\n",
        "# Grafica la convergencia del costo\n",
        "pyplot.plot(np.arange(len(J_history)), J_history, lw=2)\n",
        "pyplot.xlabel('Numero de iteraciones')\n",
        "pyplot.ylabel('Costo J')\n",
        "\n",
        "# Muestra los resultados del descenso por el gradiente\n",
        "print('theta calculado por el descenso por el gradiente: {:s}'.format(str(theta)))\n"
      ],
      "metadata": {
        "colab": {
          "base_uri": "https://localhost:8080/",
          "height": 571
        },
        "id": "YX6D435Y5rZG",
        "outputId": "10dc6af5-905f-40f7-9050-3d4fb71bf79d"
      },
      "execution_count": 216,
      "outputs": [
        {
          "output_type": "stream",
          "name": "stdout",
          "text": [
            "theta calculado por el descenso por el gradiente: [-1.77425105e+00 -1.44280037e-03 -6.04654652e-02  7.42228713e-01\n",
            "  9.88988547e-03 -1.30677752e-01 -4.53328113e-01 -7.07636425e-02\n",
            " -4.34494371e-01  4.78169155e-02 -1.78136348e-02 -5.87213336e-04\n",
            " -1.45005912e-02 -4.75008286e-02 -1.75131799e-02 -1.67374594e-01\n",
            "  3.33554691e-01 -1.27741139e-01  1.68129095e-01 -1.68129095e-01\n",
            " -2.46812653e-01 -4.02467903e-03 -2.82672878e-03 -1.85705404e-01\n",
            "  1.01477271e-01]\n"
          ]
        },
        {
          "output_type": "display_data",
          "data": {
            "text/plain": [
              "<Figure size 640x480 with 1 Axes>"
            ],
            "image/png": "[encoded data removed]"
          },
          "metadata": {}
        }
      ]
    },
    {
      "cell_type": "code",
      "source": [
        "print(X_train.shape)\n",
        "print(theta.shape)"
      ],
      "metadata": {
        "colab": {
          "base_uri": "https://localhost:8080/"
        },
        "id": "rlOkEd1BgJtx",
        "outputId": "e06df6a7-0250-4bfe-e5ae-dbc9552cb6d1"
      },
      "execution_count": 232,
      "outputs": [
        {
          "output_type": "stream",
          "name": "stdout",
          "text": [
            "(140022, 25)\n",
            "(25,)\n"
          ]
        }
      ]
    },
    {
      "cell_type": "code",
      "execution_count": 238,
      "metadata": {
        "scrolled": true,
        "colab": {
          "base_uri": "https://localhost:8080/"
        },
        "id": "rBUlehg6JVNi",
        "outputId": "e760485d-c43f-4501-d97c-17d99833f88d"
      },
      "outputs": [
        {
          "output_type": "stream",
          "name": "stdout",
          "text": [
            "(140022, 25)\n",
            "(25,)\n",
            "Un cliente Abandona su cuenta(usando el descenso por el gradiente):1\n"
          ]
        }
      ],
      "source": [
        "print(X_train.shape)\n",
        "print(theta.shape)\n",
        "#Ejemplo\n",
        "X_array = np.array([1, 2023, 668, 33, 3, 0, 2, 1, 0, 181449.97, -3, -4, 1, -6, 6, 1, 0, 0,0,1,0,0,0,0,99.0])  # Aquí se incluye todas las características de ejemplo\n",
        "\n",
        "# Calcular si abandona o no usando la función sigmoide\n",
        "abandona = sigmoid(np.dot(X_array, theta))  # Cambia esto con el número correcto de características\n",
        "\n",
        "\n",
        "print('Un cliente Abandona su cuenta(usando el descenso por el gradiente):{:.0f}'.format(abandona))"
      ]
    },
    {
      "cell_type": "code",
      "source": [
        "print(X_test.shape)"
      ],
      "metadata": {
        "colab": {
          "base_uri": "https://localhost:8080/"
        },
        "id": "Vv30LKimRaH4",
        "outputId": "6398098c-6582-4a1f-f38a-7f39f8b3fda7"
      },
      "execution_count": 299,
      "outputs": [
        {
          "output_type": "stream",
          "name": "stdout",
          "text": [
            "(35006, 24)\n"
          ]
        }
      ]
    },
    {
      "cell_type": "code",
      "source": [
        "m = X_test.shape[0]\n",
        "print(m)"
      ],
      "metadata": {
        "colab": {
          "base_uri": "https://localhost:8080/"
        },
        "id": "mIroj7PZRfKg",
        "outputId": "df8a2d4b-bbcd-47cf-b341-3d835d68f408"
      },
      "execution_count": 300,
      "outputs": [
        {
          "output_type": "stream",
          "name": "stdout",
          "text": [
            "35006\n"
          ]
        }
      ]
    },
    {
      "cell_type": "code",
      "source": [
        "n=X_test.shape[1]\n",
        "X_test = np.concatenate([np.ones((m, 1)), X_test], axis=1)\n",
        "print(X_test.shape)"
      ],
      "metadata": {
        "colab": {
          "base_uri": "https://localhost:8080/"
        },
        "id": "iyzLqT6MRiWn",
        "outputId": "604e6781-c775-4578-dadb-f9fa8458aab4"
      },
      "execution_count": 301,
      "outputs": [
        {
          "output_type": "stream",
          "name": "stdout",
          "text": [
            "(35006, 25)\n"
          ]
        }
      ]
    },
    {
      "cell_type": "code",
      "source": [
        "def costFunction(theta, X, y):\n",
        "    # Inicializar algunos valores utiles\n",
        "    m = y_test.size  # numero de ejemplos de entrenamiento\n",
        "    #Se define una pequeña cantidad epsilon para evitar problemas de logaritmo de cero en el cálculo de la función de costo\n",
        "    epsilon = 1e-8\n",
        "\n",
        "    J = 0\n",
        "    grad = np.zeros(theta.shape)\n",
        "\n",
        "    h = sigmoid(X_test.dot(theta.T))\n",
        "\n",
        "    J = (1 / m) * np.sum(-y_test.dot(np.log(h+epsilon)) - (1 - y_test).dot(np.log(1 - h+epsilon)))\n",
        "    grad = (1 / m) * (h - y_test).dot(X_test)\n",
        "\n",
        "    return J, grad"
      ],
      "metadata": {
        "id": "r6HFBwfRRtiP"
      },
      "execution_count": 302,
      "outputs": []
    },
    {
      "cell_type": "code",
      "source": [
        "print(X_test.shape)"
      ],
      "metadata": {
        "colab": {
          "base_uri": "https://localhost:8080/"
        },
        "id": "6q431MCRXy6C",
        "outputId": "48110fa3-7c93-45c9-a97b-4b6a30195145"
      },
      "execution_count": 303,
      "outputs": [
        {
          "output_type": "stream",
          "name": "stdout",
          "text": [
            "(35006, 25)\n"
          ]
        }
      ]
    },
    {
      "cell_type": "markdown",
      "metadata": {
        "id": "1ioLXhR5JVNj"
      },
      "source": [
        "Se prueba la funcion `costFunction` utilizando dos casos de prueba para $\\theta$."
      ]
    },
    {
      "cell_type": "code",
      "execution_count": 304,
      "metadata": {
        "colab": {
          "base_uri": "https://localhost:8080/"
        },
        "id": "j7Fe_xEZJVNj",
        "outputId": "ae6ce658-95ef-46b4-a024-5e6d6994e78f"
      },
      "outputs": [
        {
          "output_type": "stream",
          "name": "stdout",
          "text": [
            "[0. 0. 0. 0. 0. 0. 0. 0. 0. 0. 0. 0. 0. 0. 0. 0. 0. 0. 0. 0. 0. 0. 0. 0.\n",
            " 0.]\n",
            "Costo en theta inicial (zeros): 0.693\n",
            "Gradiente en theta inicial (zeros):\n",
            "\t[0.29, 470.24, 191.40,9.92, 1.48, 14796.27, 0.49,0.22, 0.19, 31253.38, 0.01,0.00, -0.00, 0.00, 0.00,0.18, 0.03, 0.07]\n"
          ]
        }
      ],
      "source": [
        "# Inicializacion de parametros de ajuste\n",
        "initial_theta = np.zeros(n+1)\n",
        "print(initial_theta)\n",
        "cost, grad = costFunction(initial_theta, X, y)\n",
        "\n",
        "print('Costo en theta inicial (zeros): {:.3f}'.format(cost))\n",
        "print('Gradiente en theta inicial (zeros):')\n",
        "print('\\t[{:.2f}, {:.2f}, {:.2f},{:.2f}, {:.2f}, {:.2f}, {:.2f},{:.2f}, {:.2f}, {:.2f}, {:.2f},{:.2f}, {:.2f}, {:.2f}, {:.2f},{:.2f}, {:.2f}, {:.2f}]'.format(*grad))"
      ]
    },
    {
      "cell_type": "code",
      "source": [
        "print(initial_theta.shape)"
      ],
      "metadata": {
        "colab": {
          "base_uri": "https://localhost:8080/"
        },
        "id": "czZhkSgMktKG",
        "outputId": "5eef3feb-21a5-46c9-ddc5-a4112ff5c31d"
      },
      "execution_count": 305,
      "outputs": [
        {
          "output_type": "stream",
          "name": "stdout",
          "text": [
            "(25,)\n"
          ]
        }
      ]
    },
    {
      "cell_type": "code",
      "execution_count": 306,
      "metadata": {
        "colab": {
          "base_uri": "https://localhost:8080/"
        },
        "id": "4Um8ITq2JVNj",
        "outputId": "8009090f-e482-4306-d4f3-686978cf7ae2"
      },
      "outputs": [
        {
          "output_type": "stream",
          "name": "stdout",
          "text": [
            "[ 5.270e+02  6.870e+02  4.000e+01  3.000e+00  9.043e+03  1.000e+00\n",
            "  1.000e+00  1.000e+00  1.674e+03  6.000e+00 -1.000e-01 -2.000e-01\n",
            "  1.000e-01 -1.000e-01  1.000e+00  1.000e+00  1.000e+00  1.000e+00\n",
            "  1.000e+00  1.000e-01  3.700e+02  5.300e+01  1.000e-01  2.000e-01\n",
            "  1.200e+02]\n",
            "Costo en theta prueba: 14.565\n",
            "Costo esperado (aproximado): 0.218\n",
            "\n",
            "Gradiente en theta prueba:\n",
            "\t[0.79, 1264.88, 518.77,29.09, 3.98, 45714.61, 1.26,0.59, 0.44, 85654.45, 0.02,0.01, -0.01, 0.01, 0.00,0.46, 0.14, 0.19, 0.32, 0.47, 0.70, 1294.25,1.91, 0.11, 146.30]\n"
          ]
        }
      ],
      "source": [
        "# Calcula y muestra el costo y el gradiente con valores de theta diferentes a cero\n",
        "\n",
        "test_theta = np.array([ 527,687,40,3,9043,1,1,1,1674,6,-0.1,-0.2,0.1,-0.1,1,1,1,1,1,0.1,370,53,0.1, 0.2,120])\n",
        "\n",
        "#test_theta = np.array([-11.74749157, 0.09927308, 0.09316497])\n",
        "print(test_theta)\n",
        "cost, grad = costFunction(test_theta, X, y)\n",
        "\n",
        "print('Costo en theta prueba: {:.3f}'.format(cost))\n",
        "print('Costo esperado (aproximado): 0.218\\n')\n",
        "\n",
        "print('Gradiente en theta prueba:')\n",
        "print('\\t[{:.2f}, {:.2f}, {:.2f},{:.2f}, {:.2f}, {:.2f}, {:.2f},{:.2f}, {:.2f}, {:.2f}, {:.2f},{:.2f}, {:.2f}, {:.2f}, {:.2f},{:.2f}, {:.2f}, {:.2f}, {:.2f}, {:.2f}, {:.2f}, {:.2f},{:.2f}, {:.2f}, {:.2f}]'.format(*grad))"
      ]
    },
    {
      "cell_type": "markdown",
      "metadata": {
        "id": "7AeXffwpJVNj"
      },
      "source": [
        "#### 1.2.3 Parámetros de aprendizaje usando `scipy.optimize`\n",
        "\n",
        "A continuación, se tiene el código para llamar a `optimize.minimize` con los argumentos correctos."
      ]
    },
    {
      "cell_type": "code",
      "execution_count": 317,
      "metadata": {
        "scrolled": true,
        "colab": {
          "base_uri": "https://localhost:8080/"
        },
        "id": "sB2xAu03JVNj",
        "outputId": "0eac5fc9-1820-4090-f60b-060f8063d399"
      },
      "outputs": [
        {
          "output_type": "stream",
          "name": "stderr",
          "text": [
            "<ipython-input-317-daa0778ee3ad>:7: OptimizeWarning: Unknown solver options: maxiter\n",
            "  res = optimize.minimize(costFunction,\n"
          ]
        },
        {
          "output_type": "stream",
          "name": "stdout",
          "text": [
            "Costo con un valor de theta encontrado por optimize.minimize: 0.410\n",
            "theta:\n",
            "\t[-1.010, -0.000, -0.001,0.071, 0.182, -0.000,-0.638, -0.099, -1.286,0.000, -0.197, -0.006,-0.023, -0.241, -0.243,-0.785, 0.187, -0.780,-0.048, -0.617, 0.042,-0.000, 0.015, -6.542,-0.001]\n"
          ]
        }
      ],
      "source": [
        "# Establecer las opciones para optimize.minimize\n",
        "options= {'maxiter': 1000}\n",
        "\n",
        "# revisar la documentacion de scipy's optimize.minimize para mayor descripcion de los parametros\n",
        "# La funcion devuekve un objeto `OptimizeResult`\n",
        "# Se utiliza el algoritmo de Newton truncado para la optimización.\n",
        "res = optimize.minimize(costFunction,\n",
        "                        initial_theta,\n",
        "                        (X_test, y_test),\n",
        "                        jac=True,\n",
        "                        method='TNC',\n",
        "                        options=options)\n",
        "\n",
        "# la propiedad fun del objeto devuelto por `OptimizeResult`\n",
        "# contiene el valor del costFunction de un theta optimizado\n",
        "cost = res.fun\n",
        "\n",
        "# Theta optimizada esta en la propiedad x\n",
        "theta = res.x\n",
        "\n",
        "# Imprimir theta en la pantalla\n",
        "print('Costo con un valor de theta encontrado por optimize.minimize: {:.3f}'.format(cost))\n",
        "\n",
        "print('theta:')\n",
        "print('\\t[{:.3f}, {:.3f}, {:.3f},{:.3f}, {:.3f}, {:.3f},{:.3f}, {:.3f}, {:.3f},{:.3f}, {:.3f}, {:.3f},{:.3f}, {:.3f}, {:.3f},{:.3f}, {:.3f}, {:.3f},{:.3f}, {:.3f}, {:.3f},{:.3f}, {:.3f}, {:.3f},{:.3f}]'.format(*theta))"
      ]
    },
    {
      "cell_type": "markdown",
      "metadata": {
        "id": "1DlPL874JVNk"
      },
      "source": [
        "Una vez que se completa `optimize.minimize`, se usa el valor final de $\\theta$ para visualizar el límite de decisión en los datos de entrenamiento.\n",
        "\n",
        "Para hacerlo, se implementa la función `plotDecisionBoundary` para trazar el límite de decisión sobre los datos de entrenamiento."
      ]
    },
    {
      "cell_type": "markdown",
      "metadata": {
        "id": "nj6vynAtJVNk"
      },
      "source": [
        "<a id=\"section4\"></a>\n",
        "#### 1.2.4 Evaluación de la regresión logistica\n",
        "\n",
        "Después de aprender los parámetros, se puede usar el modelo para predecir si un estudiante en particular será admitido. Para un estudiante con una puntuación en el Examen 1 de 45 y una puntuación en el Examen 2 de 85, debe esperar ver una probabilidad de admisión de 0,776. Otra forma de evaluar la calidad de los parámetros que hemos encontrado es ver qué tan bien predice el modelo aprendido en nuestro conjunto de entrenamiento."
      ]
    },
    {
      "cell_type": "code",
      "execution_count": 318,
      "metadata": {
        "id": "0xz73RAdJVNk"
      },
      "outputs": [],
      "source": [
        "def predict(theta, X):\n",
        "\n",
        "    m = X.shape[0] # Numero de ejemplo de entrenamiento\n",
        "\n",
        "    p = np.zeros(m)\n",
        "\n",
        "    p = np.round(sigmoid(X.dot(theta.T)))\n",
        "    return p"
      ]
    },
    {
      "cell_type": "markdown",
      "metadata": {
        "id": "w5PnbHiWJVNk"
      },
      "source": [
        "Una vez entrenado el modelo se procede a realizar la prediccion y evaluación de los resultados de predecir cual es el valor que vota el modelo para todos los datos utilizados en el entrenamiento."
      ]
    },
    {
      "cell_type": "code",
      "execution_count": 326,
      "metadata": {
        "colab": {
          "base_uri": "https://localhost:8080/"
        },
        "id": "VcAxVqIWJVNk",
        "outputId": "388caf87-9dd9-4650-94c8-08329927687c"
      },
      "outputs": [
        {
          "output_type": "stream",
          "name": "stdout",
          "text": [
            "Con estos datos la prediccion es: 0\n",
            "Precisión de entrenamiento: 82.59 %\n"
          ]
        },
        {
          "output_type": "stream",
          "name": "stderr",
          "text": [
            "<ipython-input-208-22f640bc02db>:8: RuntimeWarning: overflow encountered in exp\n",
            "  g = 1 / (1 + np.exp(-z))\n"
          ]
        }
      ],
      "source": [
        "#  Predice la probabilidad de ingreso para un estudiante con nota de 45 en el examen 1 y nota de 85 en el examen 2\n",
        "prob = sigmoid(np.dot([527,687,40,3,9043,1,1,1,1674,6,-0.1,-0.2,0.1,-0.1,1,1,1,1,1,0.1,370,53,0.1, 0.2,120], theta))\n",
        "print('Con estos datos la prediccion es: {:.0f}'.format(prob))\n",
        "\n",
        "# Compute accuracy on our training set\n",
        "p = predict(theta, X_test)\n",
        "print('Precisión de entrenamiento: {:.2f} %'.format(np.mean(p == y_test) * 100))"
      ]
    }
  ],
  "metadata": {
    "kernelspec": {
      "display_name": "Python 3",
      "language": "python",
      "name": "python3"
    },
    "language_info": {
      "codemirror_mode": {
        "name": "ipython",
        "version": 3
      },
      "file_extension": ".py",
      "mimetype": "text/x-python",
      "name": "python",
      "nbconvert_exporter": "python",
      "pygments_lexer": "ipython3",
      "version": "3.8.5"
    },
    "colab": {
      "provenance": [],
      "include_colab_link": true
    }
  },
  "nbformat": 4,
  "nbformat_minor": 0
}