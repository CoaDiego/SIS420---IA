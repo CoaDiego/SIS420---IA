{
  "cells": [
    {
      "cell_type": "markdown",
      "metadata": {
        "id": "view-in-github",
        "colab_type": "text"
      },
      "source": [
        "<a href=\"https://colab.research.google.com/github/CoaDiego/SIS420---IA/blob/main/LABORATORIO_02.ipynb\" target=\"_parent\"><img src=\"https://colab.research.google.com/assets/colab-badge.svg\" alt=\"Open In Colab\"/></a>"
      ]
    },
    {
      "cell_type": "markdown",
      "metadata": {
        "id": "tfwOfkjclHQx"
      },
      "source": [
        "# Laboratorio 02 de Programación Regresión Lineal Multiple"
      ]
    },
    {
      "cell_type": "code",
      "execution_count": 1,
      "metadata": {
        "id": "f0WGMMljlHQz"
      },
      "outputs": [],
      "source": [
        "# utilizado para manejos de directorios y rutas\n",
        "import os\n",
        "import sklearn as skl\n",
        "\n",
        "# Computacion vectorial y cientifica para python\n",
        "import numpy as np\n",
        "\n",
        "# Librerias para graficación (trazado de gráficos)\n",
        "from matplotlib import pyplot\n",
        "from mpl_toolkits.mplot3d import Axes3D  # Necesario para graficar superficies 3D\n",
        "\n",
        "\n",
        "# llama a matplotlib a embeber graficas dentro de los cuadernillos\n",
        "%matplotlib inline\n",
        "\n",
        "import pandas as pd"
      ]
    },
    {
      "cell_type": "code",
      "source": [
        "from google.colab import drive\n",
        "drive.mount(\"/content/gdrive\")"
      ],
      "metadata": {
        "id": "LhERtghFlVGr",
        "colab": {
          "base_uri": "https://localhost:8080/"
        },
        "outputId": "3969b179-bfc5-48fe-d935-7140beae94f9"
      },
      "execution_count": 2,
      "outputs": [
        {
          "output_type": "stream",
          "name": "stdout",
          "text": [
            "Mounted at /content/gdrive\n"
          ]
        }
      ]
    },
    {
      "cell_type": "code",
      "source": [
        "from sklearn.preprocessing import OrdinalEncoder #Se importa la libreria para convertir características categóricas en datos numéricos ordinales.\n",
        "                                                  #Se usara para 3 columnas del dataset\n",
        "# Cargar datos\n",
        "dataset = pd.read_csv('/content/gdrive/MyDrive/SIS420-IA/datasets/Lab1/Diamonds Prices2022.csv')\n",
        "dataframe = dataset\n",
        "print(dataframe) #Se muestra las caracteristicas del dataset\n",
        "\n",
        "cut_cat = dataframe[['cut']]\n",
        "color_cat = dataframe[['color']]\n",
        "clarity_cat = dataframe[['clarity']]\n",
        "print(cut_cat.head(10))\n",
        "print(color_cat.head(10))\n",
        "print(clarity_cat.head(10)) #Se verifica que las columnas que se quiere convertir a datos numericos sean correctas"
      ],
      "metadata": {
        "colab": {
          "base_uri": "https://localhost:8080/"
        },
        "id": "MhcML5Tb8u2D",
        "outputId": "03021b74-e7e0-4744-e857-953e84001a09"
      },
      "execution_count": 3,
      "outputs": [
        {
          "output_type": "stream",
          "name": "stdout",
          "text": [
            "       Unnamed: 0  carat        cut color clarity  depth  table  price     x  \\\n",
            "0               1   0.23      Ideal     E     SI2   61.5   55.0    326  3.95   \n",
            "1               2   0.21    Premium     E     SI1   59.8   61.0    326  3.89   \n",
            "2               3   0.23       Good     E     VS1   56.9   65.0    327  4.05   \n",
            "3               4   0.29    Premium     I     VS2   62.4   58.0    334  4.20   \n",
            "4               5   0.31       Good     J     SI2   63.3   58.0    335  4.34   \n",
            "...           ...    ...        ...   ...     ...    ...    ...    ...   ...   \n",
            "53938       53939   0.86    Premium     H     SI2   61.0   58.0   2757  6.15   \n",
            "53939       53940   0.75      Ideal     D     SI2   62.2   55.0   2757  5.83   \n",
            "53940       53941   0.71    Premium     E     SI1   60.5   55.0   2756  5.79   \n",
            "53941       53942   0.71    Premium     F     SI1   59.8   62.0   2756  5.74   \n",
            "53942       53943   0.70  Very Good     E     VS2   60.5   59.0   2757  5.71   \n",
            "\n",
            "          y     z  \n",
            "0      3.98  2.43  \n",
            "1      3.84  2.31  \n",
            "2      4.07  2.31  \n",
            "3      4.23  2.63  \n",
            "4      4.35  2.75  \n",
            "...     ...   ...  \n",
            "53938  6.12  3.74  \n",
            "53939  5.87  3.64  \n",
            "53940  5.74  3.49  \n",
            "53941  5.73  3.43  \n",
            "53942  5.76  3.47  \n",
            "\n",
            "[53943 rows x 11 columns]\n",
            "         cut\n",
            "0      Ideal\n",
            "1    Premium\n",
            "2       Good\n",
            "3    Premium\n",
            "4       Good\n",
            "5  Very Good\n",
            "6  Very Good\n",
            "7  Very Good\n",
            "8       Fair\n",
            "9  Very Good\n",
            "  color\n",
            "0     E\n",
            "1     E\n",
            "2     E\n",
            "3     I\n",
            "4     J\n",
            "5     J\n",
            "6     I\n",
            "7     H\n",
            "8     E\n",
            "9     H\n",
            "  clarity\n",
            "0     SI2\n",
            "1     SI1\n",
            "2     VS1\n",
            "3     VS2\n",
            "4     SI2\n",
            "5    VVS2\n",
            "6    VVS1\n",
            "7     SI1\n",
            "8     VS2\n",
            "9     VS1\n"
          ]
        }
      ]
    },
    {
      "cell_type": "markdown",
      "source": [
        "Se convierte las columnas anteriormente mencionadas en datos numericos esto para no tener problemas con el resto de codigo y columnas."
      ],
      "metadata": {
        "id": "V8eoUZf_vK3c"
      }
    },
    {
      "cell_type": "code",
      "source": [
        "#Caracteristica Corte\n",
        "ordinal_encoder = OrdinalEncoder()\n",
        "cut_cat_encoded = ordinal_encoder.fit_transform(cut_cat)\n",
        "print(cut_cat_encoded[:10])\n",
        "dataframe['cut'] = cut_cat_encoded\n",
        "#Caracteristica claridad\n",
        "clarity_cat_encoded = ordinal_encoder.fit_transform(clarity_cat)\n",
        "dataframe['clarity'] = clarity_cat_encoded\n",
        "print(clarity_cat_encoded[:10])\n",
        "#Caracteristica color\n",
        "color_cat_encoded = ordinal_encoder.fit_transform(color_cat)\n",
        "dataframe['color'] = color_cat_encoded\n",
        "print(color_cat_encoded[:10])"
      ],
      "metadata": {
        "colab": {
          "base_uri": "https://localhost:8080/"
        },
        "id": "OeH6d6UxEwMk",
        "outputId": "738bb2c0-6d7c-470f-a8e2-ea9ba0f19e48"
      },
      "execution_count": 4,
      "outputs": [
        {
          "output_type": "stream",
          "name": "stdout",
          "text": [
            "[[2.]\n",
            " [3.]\n",
            " [1.]\n",
            " [3.]\n",
            " [1.]\n",
            " [4.]\n",
            " [4.]\n",
            " [4.]\n",
            " [0.]\n",
            " [4.]]\n",
            "[[3.]\n",
            " [2.]\n",
            " [4.]\n",
            " [5.]\n",
            " [3.]\n",
            " [7.]\n",
            " [6.]\n",
            " [2.]\n",
            " [5.]\n",
            " [4.]]\n",
            "[[1.]\n",
            " [1.]\n",
            " [1.]\n",
            " [5.]\n",
            " [6.]\n",
            " [6.]\n",
            " [5.]\n",
            " [4.]\n",
            " [1.]\n",
            " [4.]]\n"
          ]
        }
      ]
    },
    {
      "cell_type": "code",
      "source": [
        "print(dataframe.describe()) #Se verifica que las columnas esten con datos numericos"
      ],
      "metadata": {
        "colab": {
          "base_uri": "https://localhost:8080/"
        },
        "id": "mOLrxmVgE5BU",
        "outputId": "d74d3d72-fff4-469c-d317-315bcd1e1e14"
      },
      "execution_count": 5,
      "outputs": [
        {
          "output_type": "stream",
          "name": "stdout",
          "text": [
            "         Unnamed: 0         carat           cut         color       clarity  \\\n",
            "count  53943.000000  53943.000000  53943.000000  53943.000000  53943.000000   \n",
            "mean   26972.000000      0.797935      2.553047      2.594127      3.835104   \n",
            "std    15572.147122      0.473999      1.027702      1.701087      1.724587   \n",
            "min        1.000000      0.200000      0.000000      0.000000      0.000000   \n",
            "25%    13486.500000      0.400000      2.000000      1.000000      2.000000   \n",
            "50%    26972.000000      0.700000      2.000000      3.000000      4.000000   \n",
            "75%    40457.500000      1.040000      3.000000      4.000000      5.000000   \n",
            "max    53943.000000      5.010000      4.000000      6.000000      7.000000   \n",
            "\n",
            "              depth         table         price             x             y  \\\n",
            "count  53943.000000  53943.000000  53943.000000  53943.000000  53943.000000   \n",
            "mean      61.749322     57.457251   3932.734294      5.731158      5.734526   \n",
            "std        1.432626      2.234549   3989.338447      1.121730      1.142103   \n",
            "min       43.000000     43.000000    326.000000      0.000000      0.000000   \n",
            "25%       61.000000     56.000000    950.000000      4.710000      4.720000   \n",
            "50%       61.800000     57.000000   2401.000000      5.700000      5.710000   \n",
            "75%       62.500000     59.000000   5324.000000      6.540000      6.540000   \n",
            "max       79.000000     95.000000  18823.000000     10.740000     58.900000   \n",
            "\n",
            "                  z  \n",
            "count  53943.000000  \n",
            "mean       3.538730  \n",
            "std        0.705679  \n",
            "min        0.000000  \n",
            "25%        2.910000  \n",
            "50%        3.530000  \n",
            "75%        4.040000  \n",
            "max       31.800000  \n"
          ]
        }
      ]
    },
    {
      "cell_type": "markdown",
      "metadata": {
        "id": "G6-ykOwelHQ0"
      },
      "source": [
        "## 2 Regresión lineal con multiples variables\n",
        "\n",
        "<a id=\"section4\"></a>\n",
        "### 2.1 Normalización de caracteristicas\n"
      ]
    },
    {
      "cell_type": "code",
      "source": [
        "# Selecciona todas las columnas excepto la octava (índice 7)\n",
        "X = dataset.drop(columns=dataset.columns[7]).values  # Elimina la columna 7 del DataFrame y convierte a NumPy\n",
        "y = dataset.iloc[:, 7].values   # Selecciona la octava columna (índice 7) como 'y'\n",
        "m = y.size\n",
        "print(m)\n",
        "\n",
        "# Imprimir algunos puntos de datos\n",
        "print('{:>8s}{:>8s}{:>10s}'.format('X[:,0]', 'X[:, 1]', 'y'))\n",
        "print('-'*26)\n",
        "\n",
        "for i in range(10):\n",
        "    print('{:8.0f}{:8.0f}{:10.0f}'.format(X[i, 0], X[i, 1], y[i]))\n"
      ],
      "metadata": {
        "colab": {
          "base_uri": "https://localhost:8080/"
        },
        "id": "BYtTXIR0Jr0B",
        "outputId": "eff197ce-a250-4fd8-8a74-4e6d9ce96120"
      },
      "execution_count": 8,
      "outputs": [
        {
          "output_type": "stream",
          "name": "stdout",
          "text": [
            "53943\n",
            "  X[:,0] X[:, 1]         y\n",
            "--------------------------\n",
            "       1       0       326\n",
            "       2       0       326\n",
            "       3       0       327\n",
            "       4       0       334\n",
            "       5       0       335\n",
            "       6       0       336\n",
            "       7       0       336\n",
            "       8       0       337\n",
            "       9       0       337\n",
            "      10       0       338\n"
          ]
        }
      ]
    },
    {
      "cell_type": "code",
      "execution_count": 9,
      "metadata": {
        "id": "7xFD8H3WlHQ1"
      },
      "outputs": [],
      "source": [
        "def  featureNormalize(X):\n",
        "\n",
        "    X_norm = X.copy()\n",
        "    mu = np.zeros(X.shape[1])\n",
        "    sigma = np.zeros(X.shape[1])\n",
        "\n",
        "    mu = np.mean(X, axis = 0)\n",
        "    sigma = np.std(X, axis = 0)\n",
        "    X_norm = (X - mu) / sigma\n",
        "\n",
        "    return X_norm, mu, sigma"
      ]
    },
    {
      "cell_type": "code",
      "execution_count": 10,
      "metadata": {
        "id": "ipL_QsTZlHQ2",
        "colab": {
          "base_uri": "https://localhost:8080/"
        },
        "outputId": "a424afdb-a4a0-45d3-f1d9-a5d4f5bb5e6e"
      },
      "outputs": [
        {
          "output_type": "stream",
          "name": "stdout",
          "text": [
            "[[1.0000e+00 2.3000e-01 2.0000e+00 ... 3.9500e+00 3.9800e+00 2.4300e+00]\n",
            " [2.0000e+00 2.1000e-01 3.0000e+00 ... 3.8900e+00 3.8400e+00 2.3100e+00]\n",
            " [3.0000e+00 2.3000e-01 1.0000e+00 ... 4.0500e+00 4.0700e+00 2.3100e+00]\n",
            " ...\n",
            " [5.3941e+04 7.1000e-01 3.0000e+00 ... 5.7900e+00 5.7400e+00 3.4900e+00]\n",
            " [5.3942e+04 7.1000e-01 3.0000e+00 ... 5.7400e+00 5.7300e+00 3.4300e+00]\n",
            " [5.3943e+04 7.0000e-01 4.0000e+00 ... 5.7100e+00 5.7600e+00 3.4700e+00]]\n",
            "Media calculada: [2.69720000e+04 7.97934672e-01 2.55304673e+00 2.59412713e+00\n",
            " 3.83510372e+00 6.17493224e+01 5.74572512e+01 5.73115807e+00\n",
            " 5.73452644e+00 3.53872958e+00]\n",
            "Desviación estandar calculada: [1.55720028e+04 4.73994160e-01 1.02769210e+00 1.70107132e+00\n",
            " 1.72457066e+00 1.43261299e+00 2.23452824e+00 1.12171919e+00\n",
            " 1.14209233e+00 7.05672930e-01]\n",
            "[[-1.7320187  -1.19818918 -0.53814438 ... -1.58788233 -1.5362387\n",
            "  -1.57116638]\n",
            " [-1.73195448 -1.24038379  0.4349097  ... -1.64137165 -1.65882074\n",
            "  -1.74121683]\n",
            " [-1.73189026 -1.19818918 -1.51119847 ... -1.49873345 -1.45743597\n",
            "  -1.74121683]\n",
            " ...\n",
            " [ 1.73189026 -0.18551847  0.4349097  ...  0.05245691  0.00479257\n",
            "  -0.06905407]\n",
            " [ 1.73195448 -0.18551847  0.4349097  ...  0.00788248 -0.00396329\n",
            "  -0.15407929]\n",
            " [ 1.7320187  -0.20661578  1.40796378 ... -0.01886218  0.02230429\n",
            "  -0.09739581]]\n"
          ]
        }
      ],
      "source": [
        "# llama featureNormalize con los datos cargados\n",
        "X_norm, mu, sigma = featureNormalize(X)\n",
        "\n",
        "print(X)\n",
        "print('Media calculada:', mu)\n",
        "print('Desviación estandar calculada:', sigma)\n",
        "print(X_norm)"
      ]
    },
    {
      "cell_type": "markdown",
      "metadata": {
        "id": "it9bMYuLlHQ2"
      },
      "source": [
        "Despues de `featureNormalize` la funcion es provada, se añade el temino de interseccion a `X_norm`:"
      ]
    },
    {
      "cell_type": "code",
      "execution_count": 11,
      "metadata": {
        "id": "nNaGVxgolHQ2"
      },
      "outputs": [],
      "source": [
        "# Añade el termino de interseccion a X\n",
        "# (Columna de unos para X0)\n",
        "X = np.concatenate([np.ones((m, 1)), X_norm], axis=1)"
      ]
    },
    {
      "cell_type": "code",
      "execution_count": 12,
      "metadata": {
        "id": "nbUVohnhlHQ3",
        "colab": {
          "base_uri": "https://localhost:8080/"
        },
        "outputId": "b4177f86-efcf-4b6a-f31c-0d8cc771fa58"
      },
      "outputs": [
        {
          "output_type": "stream",
          "name": "stdout",
          "text": [
            "[[ 1.         -1.7320187  -1.19818918 ... -1.58788233 -1.5362387\n",
            "  -1.57116638]\n",
            " [ 1.         -1.73195448 -1.24038379 ... -1.64137165 -1.65882074\n",
            "  -1.74121683]\n",
            " [ 1.         -1.73189026 -1.19818918 ... -1.49873345 -1.45743597\n",
            "  -1.74121683]\n",
            " ...\n",
            " [ 1.          1.73189026 -0.18551847 ...  0.05245691  0.00479257\n",
            "  -0.06905407]\n",
            " [ 1.          1.73195448 -0.18551847 ...  0.00788248 -0.00396329\n",
            "  -0.15407929]\n",
            " [ 1.          1.7320187  -0.20661578 ... -0.01886218  0.02230429\n",
            "  -0.09739581]]\n"
          ]
        }
      ],
      "source": [
        "print(X)"
      ]
    },
    {
      "cell_type": "markdown",
      "metadata": {
        "id": "xzLiIE6NlHQ3"
      },
      "source": [
        "<a id=\"section5\"></a>\n",
        "### 2.2 Descenso por el gradiente"
      ]
    },
    {
      "cell_type": "code",
      "execution_count": 13,
      "metadata": {
        "id": "EQCMN7KqlHQ3"
      },
      "outputs": [],
      "source": [
        "def computeCostMulti(X, y, theta):\n",
        "    # Inicializa algunos valores utiles\n",
        "    m = y.shape[0] # numero de ejemplos de entrenamiento\n",
        "\n",
        "    J = 0\n",
        "\n",
        "    # h = np.dot(X, theta)\n",
        "\n",
        "    J = (1/(2 * m)) * np.sum(np.square(np.dot(X, theta) - y))\n",
        "\n",
        "    return J\n"
      ]
    },
    {
      "cell_type": "code",
      "execution_count": 64,
      "metadata": {
        "id": "Vdy_aQUklHQ4"
      },
      "outputs": [],
      "source": [
        "def gradientDescentMulti(X, y, theta, alpha, num_iters):\n",
        "\n",
        "    # Inicializa algunos valores\n",
        "    m = y.shape[0] # numero de ejemplos de entrenamiento\n",
        "\n",
        "    # realiza una copia de theta, el cual será acutalizada por el descenso por el gradiente\n",
        "\n",
        "    theta = theta.copy()\n",
        "\n",
        "    J_history = []\n",
        "\n",
        "    for i in range(num_iters):\n",
        "        theta = theta - (alpha / m) * (np.dot(X, theta) - y).dot(X)\n",
        "        J_history.append(computeCostMulti(X, y, theta))\n",
        "\n",
        "    return theta, J_history"
      ]
    },
    {
      "cell_type": "markdown",
      "metadata": {
        "id": "a8b_GwZslHQ4"
      },
      "source": [
        "#### 3.2.1 Seleccionando coheficientes de aprendizaje\n"
      ]
    },
    {
      "cell_type": "code",
      "execution_count": 52,
      "metadata": {
        "id": "sId0DiH9lHQ4",
        "colab": {
          "base_uri": "https://localhost:8080/",
          "height": 517
        },
        "outputId": "7f6ac89e-e1df-4ee3-85e8-0133b097658d"
      },
      "outputs": [
        {
          "output_type": "stream",
          "name": "stdout",
          "text": [
            "theta calculado por el descenso por el gradiente: [3932.73429361  156.32695391 3726.84176862   83.86600149 -420.97705213\n",
            "  510.01812757 -119.52353741 -195.29624308  339.78246866  -18.42406286\n",
            "  -85.24912891]\n"
          ]
        },
        {
          "output_type": "display_data",
          "data": {
            "text/plain": [
              "<Figure size 640x480 with 1 Axes>"
            ],
            "image/png": "[encoded data removed]"
          },
          "metadata": {}
        }
      ],
      "source": [
        "# Elegir algun valor para alpha (probar varias alternativas)\n",
        "alpha = 0.003\n",
        "num_iters = 10000\n",
        "\n",
        "# inicializa theta y ejecuta el descenso por el gradiente\n",
        "theta = np.zeros(11)\n",
        "theta, J_history = gradientDescentMulti(X, y, theta, alpha, num_iters)\n",
        "\n",
        "# Grafica la convergencia del costo\n",
        "pyplot.plot(np.arange(len(J_history)), J_history, lw=2)\n",
        "pyplot.xlabel('Numero de iteraciones')\n",
        "pyplot.ylabel('Costo J')\n",
        "\n",
        "# Muestra los resultados del descenso por el gradiente\n",
        "print('theta calculado por el descenso por el gradiente: {:s}'.format(str(theta)))\n"
      ]
    },
    {
      "cell_type": "code",
      "source": [
        "# Selecciona 100 datos aleatorios del conjunto de datos normalizado\n",
        "ejemplos_alea = 100 #Numero de ejemplos aleatorios que se quiere tener\n",
        "indices = np.random.choice(X_norm.shape[0], ejemplos_alea, replace=False) #Indices para sacar n filas aleatorias de X y Y\n",
        "X_random = X_norm[indices]\n",
        "y_random = y[indices]\n",
        "\n",
        "# Normalizar los datos aleatorios seleccionados usando las medias y desviaciones estándar calculadas\n",
        "X_random_norm = (X_random - mu) / sigma\n",
        "\n",
        "# Añadir el término de intersección (sesgo) a los datos aleatorios normalizados\n",
        "X_random_norm = np.concatenate([np.ones((ejemplos_alea, 1)), X_random_norm], axis=1)\n",
        "\n",
        "# Realizar las predicciones usando el modelo entrenado\n",
        "precio = np.dot(X_random_norm, theta)\n",
        "\n",
        "# Imprimir algunas de las predicciones\n",
        "print('Algunas predicciones para los 100 datos aleatorios, usando el descenso de la gradiente:')\n",
        "for i in range(100):  # Mostrar las primeras 5 predicciones como ejemplo\n",
        "    print(f'Predicción {i + 1} del precio de Diamantes: ${precio[i]:.0f}')\n",
        "\n",
        "# Imprimir las primeras 5 verdaderas etiquetas (precios) para comparar\n",
        "#print('Valores verdaderos para los 100 datos aleatorios:')\n",
        "#for i in range(100):\n",
        "#    print(f'Valor real {i + 1}: ${y_random[i]:.0f}')"
      ],
      "metadata": {
        "colab": {
          "base_uri": "https://localhost:8080/"
        },
        "id": "4p8WfIDXY9QW",
        "outputId": "a54e116a-5a89-4c9b-80f5-e5e3bcdf0f44"
      },
      "execution_count": 72,
      "outputs": [
        {
          "output_type": "stream",
          "name": "stdout",
          "text": [
            "Algunas predicciones para los 100 datos aleatorios, usando el descenso de la gradiente:\n",
            "Predicción 1 del precio de Diamantes: $-3579\n",
            "Predicción 2 del precio de Diamantes: $-10977\n",
            "Predicción 3 del precio de Diamantes: $-12830\n",
            "Predicción 4 del precio de Diamantes: $19599\n",
            "Predicción 5 del precio de Diamantes: $28883\n",
            "Predicción 6 del precio de Diamantes: $11322\n",
            "Predicción 7 del precio de Diamantes: $-11772\n",
            "Predicción 8 del precio de Diamantes: $26084\n",
            "Predicción 9 del precio de Diamantes: $-12306\n",
            "Predicción 10 del precio de Diamantes: $19786\n",
            "Predicción 11 del precio de Diamantes: $49569\n",
            "Predicción 12 del precio de Diamantes: $180\n",
            "Predicción 13 del precio de Diamantes: $20041\n",
            "Predicción 14 del precio de Diamantes: $-12356\n",
            "Predicción 15 del precio de Diamantes: $-12461\n",
            "Predicción 16 del precio de Diamantes: $6247\n",
            "Predicción 17 del precio de Diamantes: $19870\n",
            "Predicción 18 del precio de Diamantes: $5911\n",
            "Predicción 19 del precio de Diamantes: $25881\n",
            "Predicción 20 del precio de Diamantes: $54087\n",
            "Predicción 21 del precio de Diamantes: $16859\n",
            "Predicción 22 del precio de Diamantes: $11192\n",
            "Predicción 23 del precio de Diamantes: $-12885\n",
            "Predicción 24 del precio de Diamantes: $24633\n",
            "Predicción 25 del precio de Diamantes: $-7998\n",
            "Predicción 26 del precio de Diamantes: $-8007\n",
            "Predicción 27 del precio de Diamantes: $6095\n",
            "Predicción 28 del precio de Diamantes: $-7775\n",
            "Predicción 29 del precio de Diamantes: $44638\n",
            "Predicción 30 del precio de Diamantes: $19412\n",
            "Predicción 31 del precio de Diamantes: $6193\n",
            "Predicción 32 del precio de Diamantes: $31198\n",
            "Predicción 33 del precio de Diamantes: $31279\n",
            "Predicción 34 del precio de Diamantes: $48390\n",
            "Predicción 35 del precio de Diamantes: $608\n",
            "Predicción 36 del precio de Diamantes: $44857\n",
            "Predicción 37 del precio de Diamantes: $43135\n",
            "Predicción 38 del precio de Diamantes: $-12834\n",
            "Predicción 39 del precio de Diamantes: $28269\n",
            "Predicción 40 del precio de Diamantes: $-12310\n",
            "Predicción 41 del precio de Diamantes: $-3333\n",
            "Predicción 42 del precio de Diamantes: $19086\n",
            "Predicción 43 del precio de Diamantes: $23857\n",
            "Predicción 44 del precio de Diamantes: $22748\n",
            "Predicción 45 del precio de Diamantes: $-2756\n",
            "Predicción 46 del precio de Diamantes: $-3324\n",
            "Predicción 47 del precio de Diamantes: $-12613\n",
            "Predicción 48 del precio de Diamantes: $7962\n",
            "Predicción 49 del precio de Diamantes: $20595\n",
            "Predicción 50 del precio de Diamantes: $14933\n",
            "Predicción 51 del precio de Diamantes: $5454\n",
            "Predicción 52 del precio de Diamantes: $-787\n",
            "Predicción 53 del precio de Diamantes: $82812\n",
            "Predicción 54 del precio de Diamantes: $28923\n",
            "Predicción 55 del precio de Diamantes: $43051\n",
            "Predicción 56 del precio de Diamantes: $-3388\n",
            "Predicción 57 del precio de Diamantes: $24281\n",
            "Predicción 58 del precio de Diamantes: $29139\n",
            "Predicción 59 del precio de Diamantes: $-12915\n",
            "Predicción 60 del precio de Diamantes: $-10241\n",
            "Predicción 61 del precio de Diamantes: $1547\n",
            "Predicción 62 del precio de Diamantes: $30751\n",
            "Predicción 63 del precio de Diamantes: $-10259\n",
            "Predicción 64 del precio de Diamantes: $19146\n",
            "Predicción 65 del precio de Diamantes: $20510\n",
            "Predicción 66 del precio de Diamantes: $-847\n",
            "Predicción 67 del precio de Diamantes: $20553\n",
            "Predicción 68 del precio de Diamantes: $24270\n",
            "Predicción 69 del precio de Diamantes: $-9615\n",
            "Predicción 70 del precio de Diamantes: $25211\n",
            "Predicción 71 del precio de Diamantes: $21131\n",
            "Predicción 72 del precio de Diamantes: $131\n",
            "Predicción 73 del precio de Diamantes: $21045\n",
            "Predicción 74 del precio de Diamantes: $49314\n",
            "Predicción 75 del precio de Diamantes: $5796\n",
            "Predicción 76 del precio de Diamantes: $-7875\n",
            "Predicción 77 del precio de Diamantes: $22737\n",
            "Predicción 78 del precio de Diamantes: $6125\n",
            "Predicción 79 del precio de Diamantes: $-14879\n",
            "Predicción 80 del precio de Diamantes: $-1810\n",
            "Predicción 81 del precio de Diamantes: $-3169\n",
            "Predicción 82 del precio de Diamantes: $-11629\n",
            "Predicción 83 del precio de Diamantes: $6060\n",
            "Predicción 84 del precio de Diamantes: $5659\n",
            "Predicción 85 del precio de Diamantes: $-10877\n",
            "Predicción 86 del precio de Diamantes: $6358\n",
            "Predicción 87 del precio de Diamantes: $21786\n",
            "Predicción 88 del precio de Diamantes: $25839\n",
            "Predicción 89 del precio de Diamantes: $35653\n",
            "Predicción 90 del precio de Diamantes: $28352\n",
            "Predicción 91 del precio de Diamantes: $74160\n",
            "Predicción 92 del precio de Diamantes: $-1464\n",
            "Predicción 93 del precio de Diamantes: $22927\n",
            "Predicción 94 del precio de Diamantes: $10654\n",
            "Predicción 95 del precio de Diamantes: $-3357\n",
            "Predicción 96 del precio de Diamantes: $-12252\n",
            "Predicción 97 del precio de Diamantes: $20416\n",
            "Predicción 98 del precio de Diamantes: $-11876\n",
            "Predicción 99 del precio de Diamantes: $-11594\n",
            "Predicción 100 del precio de Diamantes: $20989\n"
          ]
        }
      ]
    },
    {
      "cell_type": "markdown",
      "metadata": {
        "id": "-nMzqD8elHQ4"
      },
      "source": [
        "<a id=\"section7\"></a>\n",
        "### 2.3 Ecuacion de la Normal\n"
      ]
    },
    {
      "cell_type": "code",
      "execution_count": 67,
      "metadata": {
        "id": "C6j77JNmlHQ5",
        "colab": {
          "base_uri": "https://localhost:8080/"
        },
        "outputId": "2eab611d-324a-4d4d-940a-90bb678a1389"
      },
      "outputs": [
        {
          "output_type": "stream",
          "name": "stdout",
          "text": [
            "       Unnamed: 0  carat        cut color clarity  depth  table  price     x  \\\n",
            "0               1   0.23      Ideal     E     SI2   61.5   55.0    326  3.95   \n",
            "1               2   0.21    Premium     E     SI1   59.8   61.0    326  3.89   \n",
            "2               3   0.23       Good     E     VS1   56.9   65.0    327  4.05   \n",
            "3               4   0.29    Premium     I     VS2   62.4   58.0    334  4.20   \n",
            "4               5   0.31       Good     J     SI2   63.3   58.0    335  4.34   \n",
            "...           ...    ...        ...   ...     ...    ...    ...    ...   ...   \n",
            "53938       53939   0.86    Premium     H     SI2   61.0   58.0   2757  6.15   \n",
            "53939       53940   0.75      Ideal     D     SI2   62.2   55.0   2757  5.83   \n",
            "53940       53941   0.71    Premium     E     SI1   60.5   55.0   2756  5.79   \n",
            "53941       53942   0.71    Premium     F     SI1   59.8   62.0   2756  5.74   \n",
            "53942       53943   0.70  Very Good     E     VS2   60.5   59.0   2757  5.71   \n",
            "\n",
            "          y     z  \n",
            "0      3.98  2.43  \n",
            "1      3.84  2.31  \n",
            "2      4.07  2.31  \n",
            "3      4.23  2.63  \n",
            "4      4.35  2.75  \n",
            "...     ...   ...  \n",
            "53938  6.12  3.74  \n",
            "53939  5.87  3.64  \n",
            "53940  5.74  3.49  \n",
            "53941  5.73  3.43  \n",
            "53942  5.76  3.47  \n",
            "\n",
            "[53943 rows x 11 columns]\n",
            "53943\n",
            "  X[:,0] X[:, 1]         y\n",
            "--------------------------\n",
            "       1       1       326\n",
            "       1       2       326\n",
            "       1       3       327\n",
            "       1       4       334\n",
            "       1       5       335\n",
            "       1       6       336\n",
            "       1       7       336\n",
            "       1       8       337\n",
            "       1       9       337\n",
            "       1      10       338\n"
          ]
        }
      ],
      "source": [
        "from sklearn.preprocessing import OrdinalEncoder #Se importa la libreria para convertir características categóricas en datos numéricos ordinales.\n",
        "                                                  #Se usara para 3 columnas del dataset\n",
        "# Cargar datos\n",
        "dataset = pd.read_csv('/content/gdrive/MyDrive/SIS420-IA/datasets/Lab1/Diamonds Prices2022.csv')\n",
        "dataframe = dataset\n",
        "print(dataframe) #Se muestra las caracteristicas del dataset\n",
        "\n",
        "#Caracteristica Corte\n",
        "ordinal_encoder = OrdinalEncoder()\n",
        "cut_cat_encoded = ordinal_encoder.fit_transform(cut_cat)\n",
        "dataframe['cut'] = cut_cat_encoded\n",
        "#Caracteristica claridad\n",
        "clarity_cat_encoded = ordinal_encoder.fit_transform(clarity_cat)\n",
        "dataframe['clarity'] = clarity_cat_encoded\n",
        "#Caracteristica color\n",
        "color_cat_encoded = ordinal_encoder.fit_transform(color_cat)\n",
        "dataframe['color'] = color_cat_encoded\n",
        "\n",
        "# Selecciona todas las columnas excepto la octava (índice 7)\n",
        "X = dataset.drop(columns=dataset.columns[7]).values  # Elimina la columna 7 del DataFrame y convierte a NumPy\n",
        "y = dataset.iloc[:, 7].values   # Selecciona la octava columna (índice 7) como 'y'\n",
        "m = y.size\n",
        "X = np.concatenate([np.ones((m, 1)), X], axis=1)\n",
        "print(m)\n",
        "\n",
        "# Imprimir algunos puntos de datos\n",
        "print('{:>8s}{:>8s}{:>10s}'.format('X[:,0]', 'X[:, 1]', 'y'))\n",
        "print('-'*26)\n",
        "\n",
        "for i in range(10):\n",
        "    print('{:8.0f}{:8.0f}{:10.0f}'.format(X[i, 0], X[i, 1], y[i]))\n",
        "\n"
      ]
    },
    {
      "cell_type": "code",
      "execution_count": 68,
      "metadata": {
        "id": "gVZdjjk9lHQ5"
      },
      "outputs": [],
      "source": [
        "def normalEqn(X, y):\n",
        "\n",
        "    theta = np.zeros(X.shape[1])\n",
        "\n",
        "    theta = np.dot(np.dot(np.linalg.inv(np.dot(X.T,X)),X.T),y)\n",
        "\n",
        "    return theta"
      ]
    },
    {
      "cell_type": "code",
      "execution_count": 69,
      "metadata": {
        "id": "Ybyw-FfolHQ5",
        "colab": {
          "base_uri": "https://localhost:8080/"
        },
        "outputId": "44815a63-d5ce-4dda-d895-210553f4ee27"
      },
      "outputs": [
        {
          "output_type": "stream",
          "name": "stdout",
          "text": [
            "Theta calculado a partir de la ecuación de la normal: [ 1.49090418e+04  7.21471973e-03  1.08772892e+04  7.31934923e+01\n",
            " -2.66789775e+02  2.86110982e+02 -1.47896604e+02 -9.13574021e+01\n",
            " -1.10791621e+03  5.06911432e+01 -4.80579630e-01]\n"
          ]
        }
      ],
      "source": [
        "# Calcula los parametros con la ecuación de la normal\n",
        "theta = normalEqn(X, y);\n",
        "\n",
        "# Muestra los resultados optenidos a partir de la aplicación de la ecuación de la normal\n",
        "print('Theta calculado a partir de la ecuación de la normal: {:s}'.format(str(theta)));\n"
      ]
    },
    {
      "cell_type": "code",
      "source": [
        "# Selecciona 100 datos aleatorios del conjunto de datos\n",
        "ejemplos_alea = 100 #Numero de ejemplos aleatorios que se quiere tener\n",
        "indices = np.random.choice(X.shape[0], ejemplos_alea, replace=False) #Indices para sacar n filas aleatorias de X y Y\n",
        "X_random = X[indices]\n",
        "y_random = y[indices]\n",
        "# Realizar las predicciones usando el modelo entrenado\n",
        "precio = np.dot(X_random, theta)\n",
        "\n",
        "# Imprimir algunas de las predicciones\n",
        "print('Algunas predicciones para los 100 datos aleatorios, usando la Ecuación de la normal:')\n",
        "for i in range(100):  # Mostrar las primeras 5 predicciones como ejemplo\n",
        "    print(f'Precio {i + 1} de diamantes: ${precio[i]:.0f}')\n"
      ],
      "metadata": {
        "colab": {
          "base_uri": "https://localhost:8080/"
        },
        "id": "q1Na9QCt0D3f",
        "outputId": "38a115d7-8e1f-4e5c-b8ff-1ed4c9ecb034"
      },
      "execution_count": 79,
      "outputs": [
        {
          "output_type": "stream",
          "name": "stdout",
          "text": [
            "Algunas predicciones para los 100 datos aleatorios, usando la Ecuación de la normal:\n",
            "Precio 1 de diamantes: $15779\n",
            "Precio 2 de diamantes: $7196\n",
            "Precio 3 de diamantes: $6618\n",
            "Precio 4 de diamantes: $3078\n",
            "Precio 5 de diamantes: $10452\n",
            "Precio 6 de diamantes: $1373\n",
            "Precio 7 de diamantes: $3839\n",
            "Precio 8 de diamantes: $2558\n",
            "Precio 9 de diamantes: $8565\n",
            "Precio 10 de diamantes: $9465\n",
            "Precio 11 de diamantes: $3780\n",
            "Precio 12 de diamantes: $6735\n",
            "Precio 13 de diamantes: $3831\n",
            "Precio 14 de diamantes: $900\n",
            "Precio 15 de diamantes: $2598\n",
            "Precio 16 de diamantes: $1977\n",
            "Precio 17 de diamantes: $1560\n",
            "Precio 18 de diamantes: $2911\n",
            "Precio 19 de diamantes: $1386\n",
            "Precio 20 de diamantes: $3199\n",
            "Precio 21 de diamantes: $4540\n",
            "Precio 22 de diamantes: $2437\n",
            "Precio 23 de diamantes: $9708\n",
            "Precio 24 de diamantes: $1016\n",
            "Precio 25 de diamantes: $8262\n",
            "Precio 26 de diamantes: $5642\n",
            "Precio 27 de diamantes: $374\n",
            "Precio 28 de diamantes: $6206\n",
            "Precio 29 de diamantes: $1063\n",
            "Precio 30 de diamantes: $-150\n",
            "Precio 31 de diamantes: $9274\n",
            "Precio 32 de diamantes: $572\n",
            "Precio 33 de diamantes: $4338\n",
            "Precio 34 de diamantes: $10139\n",
            "Precio 35 de diamantes: $93\n",
            "Precio 36 de diamantes: $13957\n",
            "Precio 37 de diamantes: $755\n",
            "Precio 38 de diamantes: $3200\n",
            "Precio 39 de diamantes: $4208\n",
            "Precio 40 de diamantes: $731\n",
            "Precio 41 de diamantes: $2024\n",
            "Precio 42 de diamantes: $2770\n",
            "Precio 43 de diamantes: $195\n",
            "Precio 44 de diamantes: $9806\n",
            "Precio 45 de diamantes: $144\n",
            "Precio 46 de diamantes: $1185\n",
            "Precio 47 de diamantes: $5539\n",
            "Precio 48 de diamantes: $695\n",
            "Precio 49 de diamantes: $709\n",
            "Precio 50 de diamantes: $2558\n",
            "Precio 51 de diamantes: $1896\n",
            "Precio 52 de diamantes: $2971\n",
            "Precio 53 de diamantes: $3591\n",
            "Precio 54 de diamantes: $9822\n",
            "Precio 55 de diamantes: $5078\n",
            "Precio 56 de diamantes: $7121\n",
            "Precio 57 de diamantes: $1108\n",
            "Precio 58 de diamantes: $2486\n",
            "Precio 59 de diamantes: $9959\n",
            "Precio 60 de diamantes: $4463\n",
            "Precio 61 de diamantes: $909\n",
            "Precio 62 de diamantes: $2453\n",
            "Precio 63 de diamantes: $470\n",
            "Precio 64 de diamantes: $480\n",
            "Precio 65 de diamantes: $1278\n",
            "Precio 66 de diamantes: $1557\n",
            "Precio 67 de diamantes: $1182\n",
            "Precio 68 de diamantes: $786\n",
            "Precio 69 de diamantes: $5360\n",
            "Precio 70 de diamantes: $1357\n",
            "Precio 71 de diamantes: $304\n",
            "Precio 72 de diamantes: $2702\n",
            "Precio 73 de diamantes: $1983\n",
            "Precio 74 de diamantes: $-844\n",
            "Precio 75 de diamantes: $681\n",
            "Precio 76 de diamantes: $8422\n",
            "Precio 77 de diamantes: $5904\n",
            "Precio 78 de diamantes: $8120\n",
            "Precio 79 de diamantes: $307\n",
            "Precio 80 de diamantes: $9580\n",
            "Precio 81 de diamantes: $14388\n",
            "Precio 82 de diamantes: $6373\n",
            "Precio 83 de diamantes: $13516\n",
            "Precio 84 de diamantes: $-581\n",
            "Precio 85 de diamantes: $-2\n",
            "Precio 86 de diamantes: $5678\n",
            "Precio 87 de diamantes: $5729\n",
            "Precio 88 de diamantes: $6838\n",
            "Precio 89 de diamantes: $2979\n",
            "Precio 90 de diamantes: $10059\n",
            "Precio 91 de diamantes: $13714\n",
            "Precio 92 de diamantes: $561\n",
            "Precio 93 de diamantes: $1548\n",
            "Precio 94 de diamantes: $8602\n",
            "Precio 95 de diamantes: $2006\n",
            "Precio 96 de diamantes: $-1156\n",
            "Precio 97 de diamantes: $975\n",
            "Precio 98 de diamantes: $13482\n",
            "Precio 99 de diamantes: $7699\n",
            "Precio 100 de diamantes: $4985\n"
          ]
        }
      ]
    }
  ],
  "metadata": {
    "kernelspec": {
      "display_name": "Python 3",
      "language": "python",
      "name": "python3"
    },
    "language_info": {
      "codemirror_mode": {
        "name": "ipython",
        "version": 3
      },
      "file_extension": ".py",
      "mimetype": "text/x-python",
      "name": "python",
      "nbconvert_exporter": "python",
      "pygments_lexer": "ipython3",
      "version": "3.8.5"
    },
    "colab": {
      "provenance": [],
      "include_colab_link": true
    }
  },
  "nbformat": 4,
  "nbformat_minor": 0
}