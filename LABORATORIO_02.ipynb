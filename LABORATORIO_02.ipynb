{
  "cells": [
    {
      "cell_type": "markdown",
      "metadata": {
        "id": "view-in-github",
        "colab_type": "text"
      },
      "source": [
        "<a href=\"https://colab.research.google.com/github/CoaDiego/SIS420---IA/blob/main/LABORATORIO_02.ipynb\" target=\"_parent\"><img src=\"https://colab.research.google.com/assets/colab-badge.svg\" alt=\"Open In Colab\"/></a>"
      ]
    },
    {
      "cell_type": "markdown",
      "metadata": {
        "id": "tfwOfkjclHQx"
      },
      "source": [
        "# Ejercicio de programación Regresión Lineal Multiple"
      ]
    },
    {
      "cell_type": "code",
      "execution_count": 1,
      "metadata": {
        "id": "f0WGMMljlHQz"
      },
      "outputs": [],
      "source": [
        "# utilizado para manejos de directorios y rutas\n",
        "import os\n",
        "import sklearn as skl\n",
        "\n",
        "# Computacion vectorial y cientifica para python\n",
        "import numpy as np\n",
        "\n",
        "# Librerias para graficación (trazado de gráficos)\n",
        "from matplotlib import pyplot\n",
        "from mpl_toolkits.mplot3d import Axes3D  # Necesario para graficar superficies 3D\n",
        "\n",
        "\n",
        "# llama a matplotlib a embeber graficas dentro de los cuadernillos\n",
        "%matplotlib inline\n",
        "\n",
        "import pandas as pd"
      ]
    },
    {
      "cell_type": "code",
      "source": [
        "from google.colab import drive\n",
        "drive.mount(\"/content/gdrive\")"
      ],
      "metadata": {
        "id": "LhERtghFlVGr",
        "colab": {
          "base_uri": "https://localhost:8080/"
        },
        "outputId": "3969b179-bfc5-48fe-d935-7140beae94f9"
      },
      "execution_count": 2,
      "outputs": [
        {
          "output_type": "stream",
          "name": "stdout",
          "text": [
            "Mounted at /content/gdrive\n"
          ]
        }
      ]
    },
    {
      "cell_type": "code",
      "source": [
        "from sklearn.preprocessing import OrdinalEncoder\n",
        "# Cargar datos\n",
        "# data = np.loadtxt(os.path.join('Datasets', 'ex1data2.txt'), delimiter=',')\n",
        "dataset = pd.read_csv('/content/gdrive/MyDrive/SIS420-IA/datasets/Lab1/Diamonds Prices2022.csv')\n",
        "dataframe = dataset\n",
        "print(dataframe)\n",
        "\n",
        "cut_cat = dataframe[['cut']]\n",
        "color_cat = dataframe[['color']]\n",
        "clarity_cat = dataframe[['clarity']]\n",
        "print(cut_cat.head(10))\n",
        "print(color_cat.head(10))\n",
        "print(clarity_cat.head(10))"
      ],
      "metadata": {
        "colab": {
          "base_uri": "https://localhost:8080/"
        },
        "id": "MhcML5Tb8u2D",
        "outputId": "03021b74-e7e0-4744-e857-953e84001a09"
      },
      "execution_count": 3,
      "outputs": [
        {
          "output_type": "stream",
          "name": "stdout",
          "text": [
            "       Unnamed: 0  carat        cut color clarity  depth  table  price     x  \\\n",
            "0               1   0.23      Ideal     E     SI2   61.5   55.0    326  3.95   \n",
            "1               2   0.21    Premium     E     SI1   59.8   61.0    326  3.89   \n",
            "2               3   0.23       Good     E     VS1   56.9   65.0    327  4.05   \n",
            "3               4   0.29    Premium     I     VS2   62.4   58.0    334  4.20   \n",
            "4               5   0.31       Good     J     SI2   63.3   58.0    335  4.34   \n",
            "...           ...    ...        ...   ...     ...    ...    ...    ...   ...   \n",
            "53938       53939   0.86    Premium     H     SI2   61.0   58.0   2757  6.15   \n",
            "53939       53940   0.75      Ideal     D     SI2   62.2   55.0   2757  5.83   \n",
            "53940       53941   0.71    Premium     E     SI1   60.5   55.0   2756  5.79   \n",
            "53941       53942   0.71    Premium     F     SI1   59.8   62.0   2756  5.74   \n",
            "53942       53943   0.70  Very Good     E     VS2   60.5   59.0   2757  5.71   \n",
            "\n",
            "          y     z  \n",
            "0      3.98  2.43  \n",
            "1      3.84  2.31  \n",
            "2      4.07  2.31  \n",
            "3      4.23  2.63  \n",
            "4      4.35  2.75  \n",
            "...     ...   ...  \n",
            "53938  6.12  3.74  \n",
            "53939  5.87  3.64  \n",
            "53940  5.74  3.49  \n",
            "53941  5.73  3.43  \n",
            "53942  5.76  3.47  \n",
            "\n",
            "[53943 rows x 11 columns]\n",
            "         cut\n",
            "0      Ideal\n",
            "1    Premium\n",
            "2       Good\n",
            "3    Premium\n",
            "4       Good\n",
            "5  Very Good\n",
            "6  Very Good\n",
            "7  Very Good\n",
            "8       Fair\n",
            "9  Very Good\n",
            "  color\n",
            "0     E\n",
            "1     E\n",
            "2     E\n",
            "3     I\n",
            "4     J\n",
            "5     J\n",
            "6     I\n",
            "7     H\n",
            "8     E\n",
            "9     H\n",
            "  clarity\n",
            "0     SI2\n",
            "1     SI1\n",
            "2     VS1\n",
            "3     VS2\n",
            "4     SI2\n",
            "5    VVS2\n",
            "6    VVS1\n",
            "7     SI1\n",
            "8     VS2\n",
            "9     VS1\n"
          ]
        }
      ]
    },
    {
      "cell_type": "code",
      "source": [
        "#Caracteristica Corte\n",
        "ordinal_encoder = OrdinalEncoder()\n",
        "cut_cat_encoded = ordinal_encoder.fit_transform(cut_cat)\n",
        "print(cut_cat_encoded[:10])\n",
        "dataframe['cut'] = cut_cat_encoded\n",
        "#Caracteristica claridad\n",
        "clarity_cat_encoded = ordinal_encoder.fit_transform(clarity_cat)\n",
        "dataframe['clarity'] = clarity_cat_encoded\n",
        "print(clarity_cat_encoded[:10])\n",
        "#Caracteristica color\n",
        "color_cat_encoded = ordinal_encoder.fit_transform(color_cat)\n",
        "dataframe['color'] = color_cat_encoded\n",
        "print(color_cat_encoded[:10])"
      ],
      "metadata": {
        "colab": {
          "base_uri": "https://localhost:8080/"
        },
        "id": "OeH6d6UxEwMk",
        "outputId": "738bb2c0-6d7c-470f-a8e2-ea9ba0f19e48"
      },
      "execution_count": 4,
      "outputs": [
        {
          "output_type": "stream",
          "name": "stdout",
          "text": [
            "[[2.]\n",
            " [3.]\n",
            " [1.]\n",
            " [3.]\n",
            " [1.]\n",
            " [4.]\n",
            " [4.]\n",
            " [4.]\n",
            " [0.]\n",
            " [4.]]\n",
            "[[3.]\n",
            " [2.]\n",
            " [4.]\n",
            " [5.]\n",
            " [3.]\n",
            " [7.]\n",
            " [6.]\n",
            " [2.]\n",
            " [5.]\n",
            " [4.]]\n",
            "[[1.]\n",
            " [1.]\n",
            " [1.]\n",
            " [5.]\n",
            " [6.]\n",
            " [6.]\n",
            " [5.]\n",
            " [4.]\n",
            " [1.]\n",
            " [4.]]\n"
          ]
        }
      ]
    },
    {
      "cell_type": "code",
      "source": [
        "print(dataframe.describe())"
      ],
      "metadata": {
        "colab": {
          "base_uri": "https://localhost:8080/"
        },
        "id": "mOLrxmVgE5BU",
        "outputId": "d74d3d72-fff4-469c-d317-315bcd1e1e14"
      },
      "execution_count": 5,
      "outputs": [
        {
          "output_type": "stream",
          "name": "stdout",
          "text": [
            "         Unnamed: 0         carat           cut         color       clarity  \\\n",
            "count  53943.000000  53943.000000  53943.000000  53943.000000  53943.000000   \n",
            "mean   26972.000000      0.797935      2.553047      2.594127      3.835104   \n",
            "std    15572.147122      0.473999      1.027702      1.701087      1.724587   \n",
            "min        1.000000      0.200000      0.000000      0.000000      0.000000   \n",
            "25%    13486.500000      0.400000      2.000000      1.000000      2.000000   \n",
            "50%    26972.000000      0.700000      2.000000      3.000000      4.000000   \n",
            "75%    40457.500000      1.040000      3.000000      4.000000      5.000000   \n",
            "max    53943.000000      5.010000      4.000000      6.000000      7.000000   \n",
            "\n",
            "              depth         table         price             x             y  \\\n",
            "count  53943.000000  53943.000000  53943.000000  53943.000000  53943.000000   \n",
            "mean      61.749322     57.457251   3932.734294      5.731158      5.734526   \n",
            "std        1.432626      2.234549   3989.338447      1.121730      1.142103   \n",
            "min       43.000000     43.000000    326.000000      0.000000      0.000000   \n",
            "25%       61.000000     56.000000    950.000000      4.710000      4.720000   \n",
            "50%       61.800000     57.000000   2401.000000      5.700000      5.710000   \n",
            "75%       62.500000     59.000000   5324.000000      6.540000      6.540000   \n",
            "max       79.000000     95.000000  18823.000000     10.740000     58.900000   \n",
            "\n",
            "                  z  \n",
            "count  53943.000000  \n",
            "mean       3.538730  \n",
            "std        0.705679  \n",
            "min        0.000000  \n",
            "25%        2.910000  \n",
            "50%        3.530000  \n",
            "75%        4.040000  \n",
            "max       31.800000  \n"
          ]
        }
      ]
    },
    {
      "cell_type": "markdown",
      "metadata": {
        "id": "G6-ykOwelHQ0"
      },
      "source": [
        "## 2 Regresión lineal con multiples variables\n",
        "\n",
        "<a id=\"section4\"></a>\n",
        "### 2.1 Normalización de caracteristicas\n"
      ]
    },
    {
      "cell_type": "code",
      "source": [
        "# Selecciona todas las columnas excepto la octava (índice 7)\n",
        "X = dataset.drop(columns=dataset.columns[7]).values  # Elimina la columna 7 del DataFrame y convierte a NumPy\n",
        "y = dataset.iloc[:, 7].values   # Selecciona la octava columna (índice 7) como 'y'\n",
        "m = y.size\n",
        "print(m)\n",
        "\n",
        "# Imprimir algunos puntos de datos\n",
        "print('{:>8s}{:>8s}{:>10s}'.format('X[:,0]', 'X[:, 1]', 'y'))\n",
        "print('-'*26)\n",
        "\n",
        "for i in range(10):\n",
        "    print('{:8.0f}{:8.0f}{:10.0f}'.format(X[i, 0], X[i, 1], y[i]))\n"
      ],
      "metadata": {
        "colab": {
          "base_uri": "https://localhost:8080/"
        },
        "id": "BYtTXIR0Jr0B",
        "outputId": "eff197ce-a250-4fd8-8a74-4e6d9ce96120"
      },
      "execution_count": 8,
      "outputs": [
        {
          "output_type": "stream",
          "name": "stdout",
          "text": [
            "53943\n",
            "  X[:,0] X[:, 1]         y\n",
            "--------------------------\n",
            "       1       0       326\n",
            "       2       0       326\n",
            "       3       0       327\n",
            "       4       0       334\n",
            "       5       0       335\n",
            "       6       0       336\n",
            "       7       0       336\n",
            "       8       0       337\n",
            "       9       0       337\n",
            "      10       0       338\n"
          ]
        }
      ]
    },
    {
      "cell_type": "markdown",
      "metadata": {
        "id": "7iU_3mwZlHQ1"
      },
      "source": []
    },
    {
      "cell_type": "code",
      "execution_count": 9,
      "metadata": {
        "id": "7xFD8H3WlHQ1"
      },
      "outputs": [],
      "source": [
        "def  featureNormalize(X):\n",
        "\n",
        "    X_norm = X.copy()\n",
        "    mu = np.zeros(X.shape[1])\n",
        "    sigma = np.zeros(X.shape[1])\n",
        "\n",
        "    mu = np.mean(X, axis = 0)\n",
        "    sigma = np.std(X, axis = 0)\n",
        "    X_norm = (X - mu) / sigma\n",
        "\n",
        "    return X_norm, mu, sigma"
      ]
    },
    {
      "cell_type": "code",
      "execution_count": 10,
      "metadata": {
        "id": "ipL_QsTZlHQ2",
        "colab": {
          "base_uri": "https://localhost:8080/"
        },
        "outputId": "a424afdb-a4a0-45d3-f1d9-a5d4f5bb5e6e"
      },
      "outputs": [
        {
          "output_type": "stream",
          "name": "stdout",
          "text": [
            "[[1.0000e+00 2.3000e-01 2.0000e+00 ... 3.9500e+00 3.9800e+00 2.4300e+00]\n",
            " [2.0000e+00 2.1000e-01 3.0000e+00 ... 3.8900e+00 3.8400e+00 2.3100e+00]\n",
            " [3.0000e+00 2.3000e-01 1.0000e+00 ... 4.0500e+00 4.0700e+00 2.3100e+00]\n",
            " ...\n",
            " [5.3941e+04 7.1000e-01 3.0000e+00 ... 5.7900e+00 5.7400e+00 3.4900e+00]\n",
            " [5.3942e+04 7.1000e-01 3.0000e+00 ... 5.7400e+00 5.7300e+00 3.4300e+00]\n",
            " [5.3943e+04 7.0000e-01 4.0000e+00 ... 5.7100e+00 5.7600e+00 3.4700e+00]]\n",
            "Media calculada: [2.69720000e+04 7.97934672e-01 2.55304673e+00 2.59412713e+00\n",
            " 3.83510372e+00 6.17493224e+01 5.74572512e+01 5.73115807e+00\n",
            " 5.73452644e+00 3.53872958e+00]\n",
            "Desviación estandar calculada: [1.55720028e+04 4.73994160e-01 1.02769210e+00 1.70107132e+00\n",
            " 1.72457066e+00 1.43261299e+00 2.23452824e+00 1.12171919e+00\n",
            " 1.14209233e+00 7.05672930e-01]\n",
            "[[-1.7320187  -1.19818918 -0.53814438 ... -1.58788233 -1.5362387\n",
            "  -1.57116638]\n",
            " [-1.73195448 -1.24038379  0.4349097  ... -1.64137165 -1.65882074\n",
            "  -1.74121683]\n",
            " [-1.73189026 -1.19818918 -1.51119847 ... -1.49873345 -1.45743597\n",
            "  -1.74121683]\n",
            " ...\n",
            " [ 1.73189026 -0.18551847  0.4349097  ...  0.05245691  0.00479257\n",
            "  -0.06905407]\n",
            " [ 1.73195448 -0.18551847  0.4349097  ...  0.00788248 -0.00396329\n",
            "  -0.15407929]\n",
            " [ 1.7320187  -0.20661578  1.40796378 ... -0.01886218  0.02230429\n",
            "  -0.09739581]]\n"
          ]
        }
      ],
      "source": [
        "# llama featureNormalize con los datos cargados\n",
        "X_norm, mu, sigma = featureNormalize(X)\n",
        "\n",
        "print(X)\n",
        "print('Media calculada:', mu)\n",
        "print('Desviación estandar calculada:', sigma)\n",
        "print(X_norm)"
      ]
    },
    {
      "cell_type": "markdown",
      "metadata": {
        "id": "it9bMYuLlHQ2"
      },
      "source": [
        "Despues de `featureNormalize` la funcion es provada, se añade el temino de interseccion a `X_norm`:"
      ]
    },
    {
      "cell_type": "code",
      "execution_count": 11,
      "metadata": {
        "id": "nNaGVxgolHQ2"
      },
      "outputs": [],
      "source": [
        "# Añade el termino de interseccion a X\n",
        "# (Columna de unos para X0)\n",
        "X = np.concatenate([np.ones((m, 1)), X_norm], axis=1)"
      ]
    },
    {
      "cell_type": "code",
      "execution_count": 12,
      "metadata": {
        "id": "nbUVohnhlHQ3",
        "colab": {
          "base_uri": "https://localhost:8080/"
        },
        "outputId": "b4177f86-efcf-4b6a-f31c-0d8cc771fa58"
      },
      "outputs": [
        {
          "output_type": "stream",
          "name": "stdout",
          "text": [
            "[[ 1.         -1.7320187  -1.19818918 ... -1.58788233 -1.5362387\n",
            "  -1.57116638]\n",
            " [ 1.         -1.73195448 -1.24038379 ... -1.64137165 -1.65882074\n",
            "  -1.74121683]\n",
            " [ 1.         -1.73189026 -1.19818918 ... -1.49873345 -1.45743597\n",
            "  -1.74121683]\n",
            " ...\n",
            " [ 1.          1.73189026 -0.18551847 ...  0.05245691  0.00479257\n",
            "  -0.06905407]\n",
            " [ 1.          1.73195448 -0.18551847 ...  0.00788248 -0.00396329\n",
            "  -0.15407929]\n",
            " [ 1.          1.7320187  -0.20661578 ... -0.01886218  0.02230429\n",
            "  -0.09739581]]\n"
          ]
        }
      ],
      "source": [
        "print(X)"
      ]
    },
    {
      "cell_type": "markdown",
      "metadata": {
        "id": "xzLiIE6NlHQ3"
      },
      "source": [
        "<a id=\"section5\"></a>\n",
        "### 2.2 Descenso por el gradiente"
      ]
    },
    {
      "cell_type": "code",
      "execution_count": 13,
      "metadata": {
        "id": "EQCMN7KqlHQ3"
      },
      "outputs": [],
      "source": [
        "def computeCostMulti(X, y, theta):\n",
        "    # Inicializa algunos valores utiles\n",
        "    m = y.shape[0] # numero de ejemplos de entrenamiento\n",
        "\n",
        "    J = 0\n",
        "\n",
        "    # h = np.dot(X, theta)\n",
        "\n",
        "    J = (1/(2 * m)) * np.sum(np.square(np.dot(X, theta) - y))\n",
        "\n",
        "    return J\n"
      ]
    },
    {
      "cell_type": "code",
      "execution_count": 14,
      "metadata": {
        "id": "Vdy_aQUklHQ4"
      },
      "outputs": [],
      "source": [
        "def gradientDescentMulti(X, y, theta, alpha, num_iters):\n",
        "\n",
        "    # Inicializa algunos valores\n",
        "    m = y.shape[0] # numero de ejemplos de entrenamiento\n",
        "\n",
        "    # realiza una copia de theta, el cual será acutalizada por el descenso por el gradiente\n",
        "\n",
        "    theta = theta.copy()\n",
        "\n",
        "    J_history = []\n",
        "\n",
        "    for i in range(num_iters):\n",
        "        theta = theta - (alpha / m) * (np.dot(X, theta) - y).dot(X)\n",
        "        J_history.append(computeCostMulti(X, y, theta))\n",
        "\n",
        "    return theta, J_history"
      ]
    },
    {
      "cell_type": "markdown",
      "metadata": {
        "id": "a8b_GwZslHQ4"
      },
      "source": [
        "#### 3.2.1 Seleccionando coheficientes de aprendizaje\n"
      ]
    },
    {
      "cell_type": "code",
      "execution_count": 30,
      "metadata": {
        "id": "sId0DiH9lHQ4",
        "colab": {
          "base_uri": "https://localhost:8080/",
          "height": 517
        },
        "outputId": "30230899-ef26-494e-9645-8da481ce92a7"
      },
      "outputs": [
        {
          "output_type": "stream",
          "name": "stdout",
          "text": [
            "theta calculado por el descenso por el gradiente: [3932.73309957  181.44159725 2779.7095725    85.6875042  -395.42309553\n",
            "  517.54653419 -103.23223485 -182.1131626   649.61542525  284.64675523\n",
            "  248.23488187]\n"
          ]
        },
        {
          "output_type": "display_data",
          "data": {
            "text/plain": [
              "<Figure size 640x480 with 1 Axes>"
            ],
            "image/png": "[encoded data removed]"
          },
          "metadata": {}
        }
      ],
      "source": [
        "# Elegir algun valor para alpha (probar varias alternativas)\n",
        "alpha = 0.001 # alpha = 0.003\n",
        "num_iters = 15000\n",
        "\n",
        "# inicializa theta y ejecuta el descenso por el gradiente\n",
        "theta = np.zeros(11)\n",
        "theta, J_history = gradientDescentMulti(X, y, theta, alpha, num_iters)\n",
        "\n",
        "# Grafica la convergencia del costo\n",
        "pyplot.plot(np.arange(len(J_history)), J_history, lw=2)\n",
        "pyplot.xlabel('Numero de iteraciones')\n",
        "pyplot.ylabel('Costo J')\n",
        "\n",
        "# Muestra los resultados del descenso por el gradiente\n",
        "print('theta calculado por el descenso por el gradiente: {:s}'.format(str(theta)))\n"
      ]
    },
    {
      "cell_type": "code",
      "source": [
        "# Selecciona 100 datos aleatorios del conjunto de datos normalizado\n",
        "ejemplos_alea = 100 #Numero de ejemplos aleatorios que se quiere tener\n",
        "indices = np.random.choice(X_norm.shape[0], ejemplos_alea, replace=False) #Indices para sacar n filas aleatorias de X y Y\n",
        "X_random = X_norm[indices]\n",
        "y_random = y[indices]\n",
        "\n",
        "# Normalizar los datos aleatorios seleccionados usando las medias y desviaciones estándar calculadas\n",
        "X_random_norm = (X_random - mu) / sigma\n",
        "\n",
        "# Añadir el término de intersección (sesgo) a los datos aleatorios normalizados\n",
        "X_random_norm = np.concatenate([np.ones((num_samples, 1)), X_random_norm], axis=1)\n",
        "\n",
        "# Realizar las predicciones usando el modelo entrenado\n",
        "predictions = np.dot(X_random_norm, theta)\n",
        "\n",
        "# Imprimir algunas de las predicciones\n",
        "print('Algunas predicciones para los 100 datos aleatorios, usando el descenso de la gradiente:')\n",
        "for i in range(5):  # Mostrar las primeras 5 predicciones como ejemplo\n",
        "    print(f'Predicción {i + 1}: ${predictions[i]:.0f}')\n",
        "\n",
        "# Imprimir las primeras 5 verdaderas etiquetas (precios) para comparar\n",
        "print('Valores verdaderos para los 100 datos aleatorios:')\n",
        "for i in range(5):\n",
        "    print(f'Valor real {i + 1}: ${y_random[i]:.0f}')"
      ],
      "metadata": {
        "colab": {
          "base_uri": "https://localhost:8080/"
        },
        "id": "4p8WfIDXY9QW",
        "outputId": "8efb0865-27cd-46bb-f6b4-2f79b189cbbd"
      },
      "execution_count": 43,
      "outputs": [
        {
          "output_type": "stream",
          "name": "stdout",
          "text": [
            "Algunas predicciones para los 100 datos aleatorios, usando el descenso de la gradiente:\n",
            "Predicción 1: $12057\n",
            "Predicción 2: $-1617\n",
            "Predicción 3: $3308\n",
            "Predicción 4: $1071\n",
            "Predicción 5: $5002\n",
            "Valores verdaderos para los 100 datos aleatorios:\n",
            "Valor real 1: $8763\n",
            "Valor real 2: $1599\n",
            "Valor real 3: $4254\n",
            "Valor real 4: $2171\n",
            "Valor real 5: $4441\n"
          ]
        }
      ]
    },
    {
      "cell_type": "code",
      "source": [
        "from sklearn.metrics import mean_squared_error, mean_absolute_error, r2_score\n",
        "\n",
        "# Selecciona 100 datos aleatorios del conjunto de datos normalizado\n",
        "num_samples = 100\n",
        "random_indices = np.random.choice(X_norm.shape[0], num_samples, replace=False)\n",
        "X_random = X_norm[random_indices]\n",
        "y_random = y[random_indices]\n",
        "\n",
        "# Añadir el término de intersección (sesgo) a los datos aleatorios\n",
        "X_random = np.concatenate([np.ones((num_samples, 1)), X_random], axis=1)\n",
        "\n",
        "# Realizar las predicciones\n",
        "predictions = np.dot(X_random, theta)\n",
        "\n",
        "# Calcular métricas de error\n",
        "mse = mean_squared_error(y_random, predictions)\n",
        "mae = mean_absolute_error(y_random, predictions)\n",
        "r2 = r2_score(y_random, predictions)\n",
        "\n",
        "print(f'Error Cuadrático Medio (MSE): {mse:.2f}')\n",
        "print(f'Error Absoluto Medio (MAE): {mae:.2f}')\n",
        "print(f'Coeficiente de Determinación (R²): {r2:.2f}')\n"
      ],
      "metadata": {
        "colab": {
          "base_uri": "https://localhost:8080/"
        },
        "id": "erIerJrwiOJW",
        "outputId": "0b2892d9-579a-4b2c-d125-4216e6d77392"
      },
      "execution_count": 42,
      "outputs": [
        {
          "output_type": "stream",
          "name": "stdout",
          "text": [
            "Error Cuadrático Medio (MSE): 1503289.83\n",
            "Error Absoluto Medio (MAE): 871.08\n",
            "Coeficiente de Determinación (R²): 0.82\n"
          ]
        }
      ]
    },
    {
      "cell_type": "code",
      "execution_count": null,
      "metadata": {
        "id": "y0aZhWEqlHQ4"
      },
      "outputs": [],
      "source": [
        "X_array = [1, 1222, 3]\n",
        "X_array[1:3] = (X_array[1:3] - mu) / sigma"
      ]
    },
    {
      "cell_type": "code",
      "execution_count": null,
      "metadata": {
        "id": "KZ4G9CbJlHQ4",
        "colab": {
          "base_uri": "https://localhost:8080/"
        },
        "outputId": "8a28359c-84c0-42d5-e220-2a9a8b116562"
      },
      "outputs": [
        {
          "output_type": "stream",
          "name": "stdout",
          "text": [
            "El precio predecido para una casa de 1650 sq-ft y 3 dormitorios (usando el descenso por el gradiente): $235023\n"
          ]
        }
      ],
      "source": [
        "price = np.dot(X_array, theta)   # Se debe cambiar esto\n",
        "\n",
        "print('El precio predecido para una casa de 1650 sq-ft y 3 dormitorios (usando el descenso por el gradiente): ${:.0f}'.format(price))"
      ]
    },
    {
      "cell_type": "markdown",
      "metadata": {
        "id": "-nMzqD8elHQ4"
      },
      "source": [
        "<a id=\"section7\"></a>\n",
        "### 2.3 Ecuacion de la Normal\n"
      ]
    },
    {
      "cell_type": "code",
      "execution_count": null,
      "metadata": {
        "id": "C6j77JNmlHQ5",
        "colab": {
          "base_uri": "https://localhost:8080/"
        },
        "outputId": "775c5512-c1cc-4a1c-ad90-1d468747ddaa"
      },
      "outputs": [
        {
          "output_type": "stream",
          "name": "stdout",
          "text": [
            "47\n"
          ]
        }
      ],
      "source": [
        "# Cargar datos\n",
        "data = np.loadtxt('/content/gdrive/MyDrive/Colab Notebooks/machine learning/datasets/ex1data2.txt', delimiter=',')\n",
        "X = data[:, :2]\n",
        "y = data[:, 2]\n",
        "m = y.size\n",
        "print(m)\n",
        "X = np.concatenate([np.ones((m, 1)), X], axis=1)"
      ]
    },
    {
      "cell_type": "code",
      "execution_count": null,
      "metadata": {
        "id": "gVZdjjk9lHQ5"
      },
      "outputs": [],
      "source": [
        "def normalEqn(X, y):\n",
        "\n",
        "    theta = np.zeros(X.shape[1])\n",
        "\n",
        "    theta = np.dot(np.dot(np.linalg.inv(np.dot(X.T,X)),X.T),y)\n",
        "\n",
        "    return theta"
      ]
    },
    {
      "cell_type": "code",
      "execution_count": null,
      "metadata": {
        "id": "Ybyw-FfolHQ5",
        "colab": {
          "base_uri": "https://localhost:8080/"
        },
        "outputId": "f6df0139-4ee0-40ce-b7dd-ec7dcab32eef"
      },
      "outputs": [
        {
          "output_type": "stream",
          "name": "stdout",
          "text": [
            "Theta calculado a partir de la ecuación de la normal: [89597.9095428    139.21067402 -8738.01911233]\n",
            "Precio predecido para una cada de superficie de 1650 sq-ft y 3 dormitorios (usando la ecuación de la normal): $293081\n"
          ]
        }
      ],
      "source": [
        "# Calcula los parametros con la ecuación de la normal\n",
        "theta = normalEqn(X, y);\n",
        "\n",
        "# Muestra los resultados optenidos a partir de la aplicación de la ecuación de la normal\n",
        "print('Theta calculado a partir de la ecuación de la normal: {:s}'.format(str(theta)));\n",
        "\n",
        "# Estimar el precio para una casa de superficie de 1650 sq-ft y tres dormitorios\n",
        "\n",
        "X_array = [1, 1650, 3]\n",
        "price = np.dot(X_array, theta)\n",
        "\n",
        "print('Precio predecido para una cada de superficie de 1650 sq-ft y 3 dormitorios (usando la ecuación de la normal): ${:.0f}'.format(price))"
      ]
    }
  ],
  "metadata": {
    "kernelspec": {
      "display_name": "Python 3",
      "language": "python",
      "name": "python3"
    },
    "language_info": {
      "codemirror_mode": {
        "name": "ipython",
        "version": 3
      },
      "file_extension": ".py",
      "mimetype": "text/x-python",
      "name": "python",
      "nbconvert_exporter": "python",
      "pygments_lexer": "ipython3",
      "version": "3.8.5"
    },
    "colab": {
      "provenance": [],
      "include_colab_link": true
    }
  },
  "nbformat": 4,
  "nbformat_minor": 0
}